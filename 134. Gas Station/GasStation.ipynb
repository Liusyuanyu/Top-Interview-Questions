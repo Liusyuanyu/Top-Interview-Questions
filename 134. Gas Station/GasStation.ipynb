{
 "cells": [
  {
   "cell_type": "markdown",
   "metadata": {},
   "source": [
    "# Problem"
   ]
  },
  {
   "cell_type": "code",
   "execution_count": null,
   "metadata": {},
   "outputs": [],
   "source": [
    "There are N gas stations along a circular route, where the amount of gas at station i is gas[i].\n",
    "You have a car with an unlimited gas tank and it costs cost[i] of gas to travel from station i to its next station (i+1). You begin the journey with an empty tank at one of the gas stations.\n",
    "Return the starting gas station's index if you can travel around the circuit once in the clockwise direction, otherwise return -1.\n",
    "\n",
    "# Note:\n",
    "If there exists a solution, it is guaranteed to be unique.\n",
    "Both input arrays are non-empty and have the same length.\n",
    "Each element in the input arrays is a non-negative integer."
   ]
  },
  {
   "cell_type": "code",
   "execution_count": null,
   "metadata": {},
   "outputs": [],
   "source": [
    "class Solution:\n",
    "    def canCompleteCircuit(self, gas: List[int], cost: List[int]) -> int:\n",
    "        "
   ]
  },
  {
   "cell_type": "markdown",
   "metadata": {},
   "source": [
    "# Examples"
   ]
  },
  {
   "cell_type": "code",
   "execution_count": null,
   "metadata": {},
   "outputs": [],
   "source": [
    "# Example 1:\n",
    "Input: \n",
    "gas  = [1,2,3,4,5]\n",
    "cost = [3,4,5,1,2]\n",
    "\n",
    "Output: 3\n",
    "\n",
    "Explanation:\n",
    "Start at station 3 (index 3) and fill up with 4 unit of gas. Your tank = 0 + 4 = 4\n",
    "Travel to station 4. Your tank = 4 - 1 + 5 = 8\n",
    "Travel to station 0. Your tank = 8 - 2 + 1 = 7\n",
    "Travel to station 1. Your tank = 7 - 3 + 2 = 6\n",
    "Travel to station 2. Your tank = 6 - 4 + 3 = 5\n",
    "Travel to station 3. The cost is 5. Your gas is just enough to travel back to station 3.\n",
    "Therefore, return 3 as the starting index.\n",
    "\n",
    "\n",
    "# Example 2:\n",
    "Input: \n",
    "gas  = [2,3,4]\n",
    "cost = [3,4,3]\n",
    "\n",
    "Output: -1\n",
    "\n",
    "Explanation:\n",
    "You can't start at station 0 or 1, as there is not enough gas to travel to the next station.\n",
    "Let's start at station 2 and fill up with 4 unit of gas. Your tank = 0 + 4 = 4\n",
    "Travel to station 0. Your tank = 4 - 3 + 2 = 3\n",
    "Travel to station 1. Your tank = 3 - 3 + 3 = 3\n",
    "You cannot travel back to station 2, as it requires 4 unit of gas but you only have 3.\n",
    "Therefore, you can't travel around the circuit once no matter where you start.\n"
   ]
  },
  {
   "cell_type": "markdown",
   "metadata": {},
   "source": [
    "# My Algorithms"
   ]
  },
  {
   "cell_type": "code",
   "execution_count": null,
   "metadata": {},
   "outputs": [],
   "source": [
    "########################################\n",
    "####        Wrong Answer            ####\n",
    "########################################\n",
    "\n",
    "def canCompleteCircuit(gas: [int], cost: [int]) -> int:\n",
    "    length = len(gas)\n",
    "    rest = [0]*length\n",
    "    sumVal = 0\n",
    "    for idx in range(length):\n",
    "        rest[idx] = gas[idx]-cost[idx]\n",
    "        sumVal += rest[idx]\n",
    "    if sumVal < 0:\n",
    "        return -1\n",
    "    idx = 0\n",
    "    while(idx < length):\n",
    "        if rest[idx]>=0:\n",
    "            startQueue=[]\n",
    "            start = idx\n",
    "            tank = rest[idx]\n",
    "            idx+=1\n",
    "            while(idx < length):\n",
    "                if rest[idx]>=0:\n",
    "                    startQueue.append(idx)\n",
    "                tank+=rest[idx]\n",
    "                if tank<0:\n",
    "                    if startQueue:\n",
    "                        idx = startQueue.pop(0)\n",
    "                        tank = rest[idx]\n",
    "                    else:\n",
    "                        break\n",
    "                idx+=1\n",
    "            if idx==length:\n",
    "                return start\n",
    "        idx+=1\n",
    "    return length-1"
   ]
  },
  {
   "cell_type": "code",
   "execution_count": null,
   "metadata": {},
   "outputs": [],
   "source": [
    "def canCompleteCircuit(gas: [int], cost: [int]) -> int:\n",
    "    length = len(gas)\n",
    "    rest = [0]*length\n",
    "    sumVal = 0\n",
    "    startQueue=[]\n",
    "    for idx in range(length):\n",
    "        rest[idx] = gas[idx]-cost[idx]\n",
    "        if rest[idx]>=0:\n",
    "            startQueue.append(idx)\n",
    "        sumVal += rest[idx]\n",
    "    if sumVal < 0:\n",
    "        return -1\n",
    "    for start in startQueue:\n",
    "        idx =start\n",
    "        tank = rest[idx]\n",
    "        idx+=1\n",
    "        while(idx < length):\n",
    "            tank+=rest[idx]\n",
    "            if tank<0:\n",
    "                break\n",
    "            idx+=1\n",
    "        if idx==length:\n",
    "            return start\n",
    "    return length-1"
   ]
  },
  {
   "cell_type": "markdown",
   "metadata": {},
   "source": [
    "# Alternative algorithms"
   ]
  },
  {
   "cell_type": "code",
   "execution_count": null,
   "metadata": {},
   "outputs": [],
   "source": [
    "def canCompleteCircuit(gas: [int], cost: [int]) -> int:\n",
    "    length = len(gas)\n",
    "    rest = [ gas[idx]-cost[idx] for idx in range(length)]\n",
    "    if sum(rest) < 0:\n",
    "        return -1\n",
    "    tank=0\n",
    "    start=0\n",
    "    for idx in range(length):\n",
    "        tank += rest[idx]\n",
    "        if tank <0:\n",
    "            tank=0\n",
    "            start=idx+1\n",
    "    return start"
   ]
  },
  {
   "cell_type": "code",
   "execution_count": null,
   "metadata": {},
   "outputs": [],
   "source": [
    "def canCompleteCircuit(gas: [int], cost: [int]) -> int:\n",
    "    if sum(gas) < sum(cost):\n",
    "        return -1\n",
    "    tank=0\n",
    "    start=0\n",
    "    for idx in range(len(gas)):\n",
    "        tank += gas[idx]-cost[idx]\n",
    "        if tank <0:\n",
    "            tank=0\n",
    "            start=idx+1\n",
    "    return start"
   ]
  },
  {
   "cell_type": "code",
   "execution_count": null,
   "metadata": {},
   "outputs": [],
   "source": [
    "def canCompleteCircuit(gas: [int], cost: [int]) -> int:\n",
    "    sumVal =0\n",
    "    tank=0\n",
    "    start=0\n",
    "    for idx in range(len(gas)):\n",
    "        tank += gas[idx]-cost[idx]\n",
    "        sumVal += gas[idx]-cost[idx]\n",
    "        if tank <0:\n",
    "            tank=0\n",
    "            start=idx+1\n",
    "    return start if sumVal >=0 else -1"
   ]
  },
  {
   "cell_type": "markdown",
   "metadata": {},
   "source": [
    "# Sample Input and Test"
   ]
  },
  {
   "cell_type": "code",
   "execution_count": null,
   "metadata": {
    "tags": []
   },
   "outputs": [],
   "source": [
    "gas  = [1,2,3,4,5]\n",
    "cost = [3,4,5,1,2]\n",
    "# Return 3\n",
    "canCompleteCircuit(gas,cost)\n",
    "\n",
    "# gas  = [2,3,4]\n",
    "# cost = [3,4,3]\n",
    "# # Output: -1\n",
    "# canCompleteCircuit(gas,cost)\n",
    "\n",
    "\n"
   ]
  },
  {
   "cell_type": "code",
   "execution_count": null,
   "metadata": {
    "tags": []
   },
   "outputs": [],
   "source": [
    "gas  = [2,2,5]\n",
    "cost = [3,3,3]\n",
    "# Output: 2\n",
    "canCompleteCircuit(gas,cost)\n",
    "\n",
    "\n",
    "gas  = [5,1,2,3,4]\n",
    "cost = [4,4,1,5,1]\n",
    "# Output: 4\n",
    "canCompleteCircuit(gas,cost)\n",
    "\n",
    "\n"
   ]
  },
  {
   "cell_type": "code",
   "execution_count": null,
   "metadata": {
    "tags": []
   },
   "outputs": [],
   "source": [
    "gas  =[67,68,69,70,71,72,73,74,75,76,77,78,79,80,81,82,83,84,85,86,87,88,89,90,91,92,93,94,95,96,97,98,99,100,1,2,3,4,5,6,7,8,9,10,11,12,13,14,15,16,17,18,19,20,21,22,23,24,25,26,27,28,29,30,31,32,33,34,35,36,37,38,39,40,41,42,43,44,45,46,47,48,49,50,51,52,53,54,55,56,57,58,59,60,61,62,63,64,65,66]\n",
    "cost =[27,28,29,30,31,32,33,34,35,36,37,38,39,40,41,42,43,44,45,46,47,48,49,50,51,52,53,54,55,56,57,58,59,60,61,62,63,64,65,66,67,68,69,70,71,72,73,74,75,76,77,78,79,80,81,82,83,84,85,86,87,88,89,90,91,92,93,94,95,96,97,98,99,100,1,2,3,4,5,6,7,8,9,10,11,12,13,14,15,16,17,18,19,20,21,22,23,24,25,26]\n",
    "# Output: 74\n",
    "canCompleteCircuit(gas,cost)\n"
   ]
  }
 ],
 "metadata": {
  "kernelspec": {
   "display_name": "Python 3.8.2 64-bit",
   "language": "python",
   "name": "python38264bit579c7998837c475ba0e81c984a932003"
  },
  "language_info": {
   "codemirror_mode": {
    "name": "ipython",
    "version": 3
   },
   "file_extension": ".py",
   "mimetype": "text/x-python",
   "name": "python",
   "nbconvert_exporter": "python",
   "pygments_lexer": "ipython3",
   "version": "3.8.2-final"
  }
 },
 "nbformat": 4,
 "nbformat_minor": 2
}