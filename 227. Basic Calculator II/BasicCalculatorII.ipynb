{
 "cells": [
  {
   "cell_type": "markdown",
   "metadata": {},
   "source": [
    "# Problem"
   ]
  },
  {
   "cell_type": "code",
   "execution_count": null,
   "metadata": {},
   "outputs": [],
   "source": [
    "Implement a basic calculator to evaluate a simple expression string.\n",
    "The expression string contains only non-negative integers, +, -, *, / operators and empty spaces . The integer division should truncate toward zero."
   ]
  },
  {
   "cell_type": "code",
   "execution_count": null,
   "metadata": {},
   "outputs": [],
   "source": [
    "class Solution:\n",
    "    def calculate(self, s: str) -> int:\n",
    "        "
   ]
  },
  {
   "cell_type": "markdown",
   "metadata": {},
   "source": [
    "# Examples"
   ]
  },
  {
   "cell_type": "code",
   "execution_count": null,
   "metadata": {},
   "outputs": [],
   "source": [
    "# Example 1:\n",
    "Input: \"3+2*2\"\n",
    "Output: 7\n",
    "\n",
    "# Example 2:\n",
    "Input: \" 3/2 \"\n",
    "Output: 1\n",
    "\n",
    "# Example 3:\n",
    "Input: \" 3+5 / 2 \"\n",
    "Output: 5\n",
    "\n",
    "# Example 4:\n",
    "Input: \" 42 \"\n",
    "Output: 42\n",
    "\n"
   ]
  },
  {
   "cell_type": "markdown",
   "metadata": {},
   "source": [
    "# My Algorithms"
   ]
  },
  {
   "cell_type": "code",
   "execution_count": null,
   "metadata": {},
   "outputs": [],
   "source": [
    "###################################\n",
    "###     Time Limit Exceeded     ###\n",
    "###################################\n",
    "\n",
    "import string\n",
    "def calculate(s: str) -> int:\n",
    "    s= s.strip()\n",
    "    operand = {'+':1, '-':1, '*':2, '/':2}\n",
    "    opFun = {'+':lambda a,b : a+b, '-':lambda a,b : b-a, '*':lambda a,b : b*a, '/':lambda a,b : b//a}\n",
    "    opStack = []\n",
    "    postfix = []\n",
    "    idx =0\n",
    "    length = len(s)\n",
    "    while(idx < length):\n",
    "        if s[idx] in string.digits:\n",
    "            num  = int(s[idx])\n",
    "            while(idx+1 < length and s[idx+1] in string.digits):\n",
    "                idx+=1\n",
    "                num *=10 \n",
    "                num += int(s[idx])\n",
    "            postfix.append(num)\n",
    "        elif s[idx] in operand:\n",
    "            while(opStack and (operand[opStack[-1]] >= operand[s[idx]])):\n",
    "                postfix.append(opStack.pop())\n",
    "            opStack.append(s[idx])\n",
    "        idx+=1\n",
    "    while(opStack):\n",
    "        postfix.append(opStack.pop())\n",
    "\n",
    "    tanslate = []\n",
    "    while(postfix):\n",
    "        char = postfix.pop(0)\n",
    "        if char in operand:\n",
    "            tanslate.append(opFun[char](tanslate.pop(),tanslate.pop()))\n",
    "        else:\n",
    "            tanslate.append(char)\n",
    "    return tanslate[-1]"
   ]
  },
  {
   "cell_type": "markdown",
   "metadata": {},
   "source": [
    "# Alternative algorithms"
   ]
  },
  {
   "cell_type": "code",
   "execution_count": null,
   "metadata": {},
   "outputs": [],
   "source": [
    "def calculate(s: str) -> int:\n",
    "    nums = []\n",
    "    idx =0\n",
    "    length = len(s)\n",
    "    curNum = 0\n",
    "    operand='+'\n",
    "    while(idx < length):\n",
    "        if s[idx]==' ':\n",
    "            idx+=1\n",
    "            continue\n",
    "        if s[idx] in string.digits:\n",
    "            start=idx\n",
    "            while(idx < length and s[idx] in string.digits):\n",
    "                idx+=1\n",
    "            curNum = int(s[start:idx])\n",
    "        if operand=='+':\n",
    "            nums.append(curNum)\n",
    "        elif operand =='-':\n",
    "            nums.append(-curNum)\n",
    "        elif operand =='*':\n",
    "            nums[-1] *= curNum\n",
    "        elif operand =='/':\n",
    "            sign = -1 if nums[-1]^curNum<0 else 1 \n",
    "            nums[-1] = abs(nums[-1])//abs(curNum)*sign\n",
    "        curNum = 0\n",
    "        if (idx < length): operand = s[idx]\n",
    "        idx+=1\n",
    "    return sum(nums)"
   ]
  },
  {
   "cell_type": "code",
   "execution_count": null,
   "metadata": {},
   "outputs": [],
   "source": [
    "###################################\n",
    "###     A Better Approach       ###\n",
    "###################################\n",
    "\n",
    "def calculate(s: str) -> int:\n",
    "    nums = []\n",
    "    curNum = 0\n",
    "    operand = '+'\n",
    "    for char in s+'+':\n",
    "        if char in string.digits:\n",
    "            curNum = curNum*10+int(char) \n",
    "        elif char==' ':\n",
    "            pass\n",
    "        else:\n",
    "            if operand=='+':\n",
    "                nums.append(curNum)\n",
    "            elif operand =='-':\n",
    "                nums.append(-curNum)\n",
    "            elif operand =='*':\n",
    "                nums[-1] *= curNum\n",
    "            else: # operand =='/':\n",
    "                sign = -1 if nums[-1]^curNum<0 else 1 \n",
    "                nums[-1] = abs(nums[-1])//abs(curNum)*sign\n",
    "            operand = char\n",
    "            curNum = 0\n",
    "    return sum(nums)"
   ]
  },
  {
   "cell_type": "markdown",
   "metadata": {},
   "source": [
    "# Sample Input and Test"
   ]
  },
  {
   "cell_type": "code",
   "execution_count": null,
   "metadata": {
    "tags": []
   },
   "outputs": [],
   "source": [
    "Input= \" 42 \"\n",
    "# Output: 42\n",
    "calculate(Input)\n",
    "\n",
    "\n",
    "Input= \"14-3/2\"\n",
    "# Output: 13\n",
    "calculate(Input)\n"
   ]
  },
  {
   "cell_type": "code",
   "execution_count": null,
   "metadata": {
    "tags": []
   },
   "outputs": [],
   "source": [
    "Input= \"3+2*2\"\n",
    "# Output: 7\n",
    "calculate(Input)\n",
    "\n",
    "\n",
    "Input= \" 3/2 \"\n",
    "# Output: 1\n",
    "calculate(Input)\n",
    "\n",
    "\n",
    "Input= \" 3+5 / 2 \"\n",
    "# Output: 5\n",
    "calculate(Input)\n",
    "\n"
   ]
  }
 ],
 "metadata": {
  "kernelspec": {
   "display_name": "Python 3.8.2 64-bit",
   "language": "python",
   "name": "python38264bit579c7998837c475ba0e81c984a932003"
  },
  "language_info": {
   "codemirror_mode": {
    "name": "ipython",
    "version": 3
   },
   "file_extension": ".py",
   "mimetype": "text/x-python",
   "name": "python",
   "nbconvert_exporter": "python",
   "pygments_lexer": "ipython3",
   "version": "3.8.2-final"
  }
 },
 "nbformat": 4,
 "nbformat_minor": 2
}