{
 "cells": [
  {
   "cell_type": "markdown",
   "metadata": {},
   "source": [
    "# Problem"
   ]
  },
  {
   "cell_type": "code",
   "execution_count": null,
   "metadata": {},
   "outputs": [],
   "source": [
    "Given a binary tree, return the zigzag level order traversal of its nodes' values. (ie, from left to right, then right to left for the next level and alternate between)."
   ]
  },
  {
   "cell_type": "code",
   "execution_count": null,
   "metadata": {},
   "outputs": [],
   "source": [
    "# Definition for a binary tree node.\n",
    "# class TreeNode:\n",
    "#     def __init__(self, val=0, left=None, right=None):\n",
    "#         self.val = val\n",
    "#         self.left = left\n",
    "#         self.right = right\n",
    "class Solution:\n",
    "    def zigzagLevelOrder(self, root: TreeNode) -> List[List[int]]:\n",
    "        "
   ]
  },
  {
   "cell_type": "markdown",
   "metadata": {},
   "source": [
    "# Examples"
   ]
  },
  {
   "cell_type": "code",
   "execution_count": null,
   "metadata": {},
   "outputs": [],
   "source": [
    "For example:\n",
    "Given binary tree [3,9,20,null,null,15,7],\n",
    "    3\n",
    "   / \\\n",
    "  9  20\n",
    "    /  \\\n",
    "   15   7\n",
    "\n",
    "return its zigzag level order traversal as:\n",
    "[\n",
    "  [3],\n",
    "  [20,9],\n",
    "  [15,7]\n",
    "]"
   ]
  },
  {
   "cell_type": "code",
   "execution_count": null,
   "metadata": {},
   "outputs": [],
   "source": [
    "class TreeNode:\n",
    "    def __init__(self, val=0, left=None, right=None):\n",
    "        self.val = val\n",
    "        self.left = left\n",
    "        self.right = right"
   ]
  },
  {
   "cell_type": "markdown",
   "metadata": {},
   "source": [
    "# My Algorithms"
   ]
  },
  {
   "cell_type": "code",
   "execution_count": null,
   "metadata": {},
   "outputs": [],
   "source": [
    "def zigzagLevelOrder(root: TreeNode) -> [[int]]:\n",
    "    res=[]\n",
    "    def preOrderTraversal(node, level):\n",
    "        if not node:\n",
    "            return\n",
    "        if len(res) < level:\n",
    "            res.append([])\n",
    "        if level&1 :#Odd\n",
    "            res[level-1].append(node.val)\n",
    "        else:\n",
    "            res[level-1].insert(0,node.val)\n",
    "        preOrderTraversal(node.left, level+1)\n",
    "        preOrderTraversal(node.right, level+1)\n",
    "    if not root:\n",
    "        return []\n",
    "    preOrderTraversal(root, 1)\n",
    "    return res    \n"
   ]
  },
  {
   "cell_type": "markdown",
   "metadata": {},
   "source": [
    "# Alternative algorithms"
   ]
  },
  {
   "cell_type": "code",
   "execution_count": null,
   "metadata": {},
   "outputs": [],
   "source": [
    "def zigzagLevelOrder(root: TreeNode) -> [[int]]:\n",
    "    if not root:\n",
    "        return []\n",
    "    res=[]\n",
    "    levelQueue=[root]\n",
    "    level=0\n",
    "    while(levelQueue):\n",
    "        levelValues=[]\n",
    "        if level & 1:\n",
    "            for _ in range(len(levelQueue)):\n",
    "                aNode = levelQueue.pop(0)\n",
    "                if aNode:\n",
    "                    levelValues.insert(0,aNode.val)\n",
    "                    if aNode.left:\n",
    "                        levelQueue.append(aNode.left)\n",
    "                    if aNode.right:\n",
    "                        levelQueue.append(aNode.right)\n",
    "            res.append(levelValues)\n",
    "        else:\n",
    "            for _ in range(len(levelQueue)):\n",
    "                aNode = levelQueue.pop(0)\n",
    "                if aNode:\n",
    "                    levelValues.append(aNode.val)\n",
    "                    if aNode.left:\n",
    "                        levelQueue.append(aNode.left)\n",
    "                    if aNode.right:\n",
    "                        levelQueue.append(aNode.right)\n",
    "            res.append(levelValues)\n",
    "        level+=1\n",
    "    return res    \n"
   ]
  },
  {
   "cell_type": "markdown",
   "metadata": {},
   "source": [
    "# Sample Input and Test"
   ]
  },
  {
   "cell_type": "code",
   "execution_count": null,
   "metadata": {
    "tags": []
   },
   "outputs": [],
   "source": [
    "root=TreeNode(3)\n",
    "root.left=TreeNode(9)\n",
    "root.right=TreeNode(20)\n",
    "root.right.left=TreeNode(15)\n",
    "root.right.right=TreeNode(7)\n",
    "\n",
    "level = levelOrder(root)\n",
    "print(level)\n",
    "# tree= [3,9,20,null,null,15,7],\n",
    "# [\n",
    "#   [3],\n",
    "#   [9,20],\n",
    "#   [15,7]\n",
    "# ]\n",
    "zigzagLevelOrder(root)"
   ]
  },
  {
   "cell_type": "markdown",
   "metadata": {},
   "source": [
    "# Print Tree"
   ]
  },
  {
   "cell_type": "code",
   "execution_count": null,
   "metadata": {
    "tags": []
   },
   "outputs": [],
   "source": [
    "def levelOrder(root: TreeNode) -> [[int]]:\n",
    "    res=[]\n",
    "    def preOrderTraversal(node, level):\n",
    "        if not node:\n",
    "            return\n",
    "        if len(res) < level:\n",
    "            res.append([])\n",
    "        res[level-1].append(node.val)\n",
    "        preOrderTraversal(node.left, level+1)\n",
    "        preOrderTraversal(node.right, level+1)\n",
    "    if not root:\n",
    "        return []\n",
    "    preOrderTraversal(root, 1)\n",
    "    return res    \n"
   ]
  },
  {
   "cell_type": "code",
   "execution_count": null,
   "metadata": {},
   "outputs": [],
   "source": [
    "# Function to  print level order traversal of tree \n",
    "def printLevelOrder(root): \n",
    "    h = height(root) \n",
    "    for i in range(1, h+1): \n",
    "        printGivenLevel(root, i) \n",
    "  \n",
    "# Print nodes at a given level \n",
    "def printGivenLevel(root , level): \n",
    "    if root is None:\n",
    "        print('Null', end=\" \")\n",
    "        return\n",
    "    if level == 1: \n",
    "        print (\"%d\" %(root.val), end=\" \") \n",
    "    elif level > 1 : \n",
    "        printGivenLevel(root.left , level-1) \n",
    "        printGivenLevel(root.right , level-1) \n",
    "\n",
    "def height(node): \n",
    "    if node is None: \n",
    "        return 0 \n",
    "    else : \n",
    "        # Compute the height of each subtree  \n",
    "        lheight = height(node.left) \n",
    "        rheight = height(node.right) \n",
    "  \n",
    "        #Use the larger one \n",
    "        if lheight > rheight : \n",
    "            return lheight+1\n",
    "        else: \n",
    "            return rheight+1"
   ]
  }
 ],
 "metadata": {
  "kernelspec": {
   "display_name": "Python 3.8.2 64-bit",
   "language": "python",
   "name": "python38264bit579c7998837c475ba0e81c984a932003"
  },
  "language_info": {
   "codemirror_mode": {
    "name": "ipython",
    "version": 3
   },
   "file_extension": ".py",
   "mimetype": "text/x-python",
   "name": "python",
   "nbconvert_exporter": "python",
   "pygments_lexer": "ipython3",
   "version": "3.8.2-final"
  }
 },
 "nbformat": 4,
 "nbformat_minor": 2
}