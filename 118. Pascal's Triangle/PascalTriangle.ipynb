{
 "cells": [
  {
   "cell_type": "markdown",
   "metadata": {},
   "source": [
    "# Problem"
   ]
  },
  {
   "cell_type": "code",
   "execution_count": null,
   "metadata": {},
   "outputs": [],
   "source": [
    "Given a non-negative integer numRows, generate the first numRows of Pascal's triangle."
   ]
  },
  {
   "cell_type": "code",
   "execution_count": null,
   "metadata": {},
   "outputs": [],
   "source": [
    "class Solution:\n",
    "    def generate(self, numRows: int) -> List[List[int]]:\n",
    "        "
   ]
  },
  {
   "cell_type": "markdown",
   "metadata": {},
   "source": [
    "# Examples"
   ]
  },
  {
   "cell_type": "code",
   "execution_count": null,
   "metadata": {},
   "outputs": [],
   "source": [
    "Example:\n",
    "Input: 5\n",
    "Output:\n",
    "[\n",
    "     [1],\n",
    "    [1,1],\n",
    "   [1,2,1],\n",
    "  [1,3,3,1],\n",
    " [1,4,6,4,1]\n",
    "]"
   ]
  },
  {
   "cell_type": "markdown",
   "metadata": {},
   "source": [
    "# My Algorithms"
   ]
  },
  {
   "cell_type": "code",
   "execution_count": null,
   "metadata": {},
   "outputs": [],
   "source": [
    "def generate(numRows: int) -> [[int]]:\n",
    "    if numRows <=0:\n",
    "        return []\n",
    "    ans = []\n",
    "    def levelGenerate(preNums):\n",
    "        length =len(preNums)\n",
    "        level =[1]*(length+1)\n",
    "        for idx in range(0,length-1):\n",
    "            level[idx+1]=preNums[idx]+preNums[idx+1]\n",
    "        ans.append(level)\n",
    "        if length +1 < numRows:\n",
    "            levelGenerate(level)\n",
    "    levelGenerate([])\n",
    "    return ans\n",
    "    "
   ]
  },
  {
   "cell_type": "markdown",
   "metadata": {},
   "source": [
    "# Alternative algorithms"
   ]
  },
  {
   "cell_type": "code",
   "execution_count": null,
   "metadata": {},
   "outputs": [],
   "source": [
    "def generate(numRows: int) -> [[int]]:\n",
    "    if not numRows:\n",
    "        return []\n",
    "    if numRows==1:\n",
    "        return [[1]]\n",
    "    level = [1]\n",
    "    ans = generate(numRows-1)\n",
    "    for idx in range(len(ans[-1])-1):\n",
    "        level.append(ans[-1][idx]+ans[-1][idx+1])\n",
    "    level.append(1)\n",
    "    return ans+[level]\n",
    "    "
   ]
  },
  {
   "cell_type": "markdown",
   "metadata": {},
   "source": [
    "# Sample Input and Test"
   ]
  },
  {
   "cell_type": "code",
   "execution_count": null,
   "metadata": {},
   "outputs": [],
   "source": [
    "for id in range(1,1):\n",
    "    print(idx)"
   ]
  },
  {
   "cell_type": "code",
   "execution_count": null,
   "metadata": {
    "tags": []
   },
   "outputs": [],
   "source": [
    "# [\n",
    "#      [1],\n",
    "#     [1,1],\n",
    "#    [1,2,1],\n",
    "#   [1,3,3,1],\n",
    "#  [1,4,6,4,1]\n",
    "# ]\n",
    "\n",
    "ans = generate(5)\n",
    "printMatrix(ans)"
   ]
  },
  {
   "cell_type": "markdown",
   "metadata": {},
   "source": [
    "# Print Matrix"
   ]
  },
  {
   "cell_type": "code",
   "execution_count": null,
   "metadata": {},
   "outputs": [],
   "source": [
    "def printMatrix(mats):\n",
    "    \n",
    "    for mat in mats:\n",
    "        print(mat)"
   ]
  }
 ],
 "metadata": {
  "kernelspec": {
   "display_name": "Python 3.8.2 64-bit",
   "language": "python",
   "name": "python38264bit579c7998837c475ba0e81c984a932003"
  },
  "language_info": {
   "codemirror_mode": {
    "name": "ipython",
    "version": 3
   },
   "file_extension": ".py",
   "mimetype": "text/x-python",
   "name": "python",
   "nbconvert_exporter": "python",
   "pygments_lexer": "ipython3",
   "version": "3.8.2-final"
  }
 },
 "nbformat": 4,
 "nbformat_minor": 2
}