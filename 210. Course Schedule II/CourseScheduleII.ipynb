{
 "cells": [
  {
   "cell_type": "markdown",
   "metadata": {},
   "source": [
    "# Problem"
   ]
  },
  {
   "cell_type": "code",
   "execution_count": null,
   "metadata": {},
   "outputs": [],
   "source": [
    "There are a total of n courses you have to take, labeled from 0 to n-1.\n",
    "Some courses may have prerequisites, for example to take course 0 you have to first take course 1, which is expressed as a pair: [0,1]\n",
    "Given the total number of courses and a list of prerequisite pairs, return the ordering of courses you should take to finish all courses.\n",
    "There may be multiple correct orders, you just need to return one of them. If it is impossible to finish all courses, return an empty array.\n",
    "\n",
    "# Note:\n",
    "The input prerequisites is a graph represented by a list of edges, not adjacency matrices. Read more about how a graph is represented.\n",
    "You may assume that there are no duplicate edges in the input prerequisites."
   ]
  },
  {
   "cell_type": "code",
   "execution_count": null,
   "metadata": {},
   "outputs": [],
   "source": [
    "class Solution:\n",
    "    def findOrder(self, numCourses: int, prerequisites: List[List[int]]) -> List[int]:\n",
    "        "
   ]
  },
  {
   "cell_type": "markdown",
   "metadata": {},
   "source": [
    "# Examples"
   ]
  },
  {
   "cell_type": "code",
   "execution_count": null,
   "metadata": {},
   "outputs": [],
   "source": [
    "# Example 1:\n",
    "Input: 2, [[1,0]] \n",
    "Output: [0,1]\n",
    "Explanation: There are a total of 2 courses to take. To take course 1 you should have finished   \n",
    "             course 0. So the correct course order is [0,1] .\n",
    "\n",
    "\n",
    "# Example 2:\n",
    "Input: 4, [[1,0],[2,0],[3,1],[3,2]]\n",
    "Output: [0,1,2,3] or [0,2,1,3]\n",
    "Explanation: There are a total of 4 courses to take. To take course 3 you should have finished both     \n",
    "             courses 1 and 2. Both courses 1 and 2 should be taken after you finished course 0. \n",
    "             So one correct course order is [0,1,2,3]. Another correct ordering is [0,2,1,3] .\n"
   ]
  },
  {
   "cell_type": "markdown",
   "metadata": {},
   "source": [
    "# My Algorithms"
   ]
  },
  {
   "cell_type": "code",
   "execution_count": null,
   "metadata": {},
   "outputs": [],
   "source": [
    "def findOrder(numCourses: int, prerequisites: [[int]]) -> [int]:\n",
    "    neighbors= [[] for _ in range(numCourses)]\n",
    "    degrees= [0]*numCourses\n",
    "    counter = 0\n",
    "    for requisit in prerequisites:\n",
    "        neighbors[requisit[1]].append(requisit[0])\n",
    "        degrees[requisit[0]] +=1\n",
    "    zeroQueue = [ver for ver in range(numCourses) if not degrees[ver] ] \n",
    "    ans =[]\n",
    "    while(zeroQueue):\n",
    "        vertex = zeroQueue.pop(0)\n",
    "        ans.append(vertex)      \n",
    "        for neighbor in neighbors[vertex]:\n",
    "            degrees[neighbor]-=1\n",
    "            if not degrees[neighbor]:\n",
    "                zeroQueue.append(neighbor)\n",
    "    return ans if len(ans)==numCourses else []"
   ]
  },
  {
   "cell_type": "code",
   "execution_count": null,
   "metadata": {},
   "outputs": [],
   "source": [
    "# def canFinish(numCourses: int, prerequisites: [[int]]) -> bool:\n",
    "#     vertexStatus=[None]*numCourses\n",
    "#     neighbors= [[] for _ in range(numCourses)]\n",
    "#     def dfsCheck(vertex):\n",
    "#         if vertexStatus[vertex] is False:\n",
    "#             return True\n",
    "#         if vertexStatus[vertex]:\n",
    "#             return False\n",
    "\n",
    "#         vertexStatus[vertex]=True\n",
    "#         for ver in neighbors[vertex]:\n",
    "#             if not dfsCheck(ver):\n",
    "#                 return False\n",
    "#         vertexStatus[vertex]=False\n",
    "#         return True\n",
    "\n",
    "#     for requisit in prerequisites:\n",
    "#         neighbors[requisit[1]].append(requisit[0])\n",
    "\n",
    "#     for course in range(numCourses):\n",
    "#         if not dfsCheck(course):\n",
    "#             return False\n",
    "#     return True\n"
   ]
  },
  {
   "cell_type": "markdown",
   "metadata": {},
   "source": [
    "# Alternative algorithms"
   ]
  },
  {
   "cell_type": "code",
   "execution_count": null,
   "metadata": {
    "tags": []
   },
   "outputs": [],
   "source": []
  },
  {
   "cell_type": "markdown",
   "metadata": {},
   "source": [
    "# Sample Input and Test"
   ]
  },
  {
   "cell_type": "code",
   "execution_count": null,
   "metadata": {},
   "outputs": [],
   "source": [
    "numCourses = 3\n",
    "prerequisites = [[1,0],[1,2],[0,1]]\n",
    "findOrder(numCourses, prerequisites)\n"
   ]
  },
  {
   "cell_type": "code",
   "execution_count": null,
   "metadata": {
    "tags": []
   },
   "outputs": [],
   "source": [
    "numCourses = 4\n",
    "prerequisites = [[1,0],[2,0],[3,1],[3,2]]\n",
    "findOrder(numCourses, prerequisites)\n",
    "\n",
    "\n",
    "# numCourses = 2\n",
    "# prerequisites = [[1,0]]\n",
    "# findOrder(numCourses, prerequisites)\n"
   ]
  }
 ],
 "metadata": {
  "kernelspec": {
   "display_name": "Python 3.8.2 64-bit",
   "language": "python",
   "name": "python38264bit579c7998837c475ba0e81c984a932003"
  },
  "language_info": {
   "codemirror_mode": {
    "name": "ipython",
    "version": 3
   },
   "file_extension": ".py",
   "mimetype": "text/x-python",
   "name": "python",
   "nbconvert_exporter": "python",
   "pygments_lexer": "ipython3",
   "version": "3.8.2-final"
  }
 },
 "nbformat": 4,
 "nbformat_minor": 2
}