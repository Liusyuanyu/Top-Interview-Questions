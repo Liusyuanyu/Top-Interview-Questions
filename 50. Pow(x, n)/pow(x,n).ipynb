{
 "cells": [
  {
   "cell_type": "markdown",
   "metadata": {},
   "source": [
    "# Problem"
   ]
  },
  {
   "cell_type": "code",
   "execution_count": null,
   "metadata": {},
   "outputs": [],
   "source": [
    "Implement pow(x, n), which calculates x raised to the power n (xn)."
   ]
  },
  {
   "cell_type": "code",
   "execution_count": null,
   "metadata": {},
   "outputs": [],
   "source": [
    "class Solution:\n",
    "    def myPow(self, x: float, n: int) -> float:\n",
    "        "
   ]
  },
  {
   "cell_type": "markdown",
   "metadata": {},
   "source": [
    "# Examples"
   ]
  },
  {
   "cell_type": "code",
   "execution_count": null,
   "metadata": {},
   "outputs": [],
   "source": [
    "# Example 1:\n",
    "Input: 2.00000, 10\n",
    "Output: 1024.00000\n",
    "\n",
    "# Example 2:\n",
    "Input: 2.10000, 3\n",
    "Output: 9.26100\n",
    "\n",
    "# Example 3:\n",
    "Input: 2.00000, -2\n",
    "Output: 0.25000\n",
    "Explanation: 2-2 = 1/22 = 1/4 = 0.25"
   ]
  },
  {
   "cell_type": "markdown",
   "metadata": {},
   "source": [
    "# My Algorithms"
   ]
  },
  {
   "cell_type": "code",
   "execution_count": null,
   "metadata": {},
   "outputs": [],
   "source": [
    "def myPow(x: float, n: int) -> float:\n",
    "    def multiple(exp):\n",
    "        if not exp:\n",
    "            return 1\n",
    "        extra = x if exp&1 else 1\n",
    "        exp>>=1\n",
    "        temp = multiple(exp)\n",
    "        return temp*temp*extra\n",
    "    if n < 0:\n",
    "        x= 1/x\n",
    "        n= -n\n",
    "    return multiple(n)\n"
   ]
  },
  {
   "cell_type": "code",
   "execution_count": null,
   "metadata": {},
   "outputs": [],
   "source": [
    "def myPow(x: float, n: int) -> float:\n",
    "    if not n:\n",
    "        return 1\n",
    "    if n < 0:\n",
    "        x= 1/x\n",
    "        n= -n\n",
    "    ans = 1.0\n",
    "    while n > 0:\n",
    "        if n&1:\n",
    "            ans *=x\n",
    "        x*=x\n",
    "        n>>=1\n",
    "    return ans\n"
   ]
  },
  {
   "cell_type": "markdown",
   "metadata": {},
   "source": [
    "# Alternative algorithms"
   ]
  },
  {
   "cell_type": "code",
   "execution_count": null,
   "metadata": {},
   "outputs": [],
   "source": [
    "def myPow(x: float, n: int) -> float:\n",
    "    return x**n\n"
   ]
  },
  {
   "cell_type": "markdown",
   "metadata": {},
   "source": [
    "# Sample Input and Test"
   ]
  },
  {
   "cell_type": "code",
   "execution_count": null,
   "metadata": {
    "tags": []
   },
   "outputs": [],
   "source": [
    "x, n= 2.0, 10\n",
    "# Output: 1024.00000\n",
    "myPow(x,n)\n",
    "\n",
    "# x, n= 2.10000, 3\n",
    "# # Output: 9.26100\n",
    "# myPow(x,n)\n",
    "\n",
    "# x, n= 2.0000, -2\n",
    "# # Output: 0.25000\n",
    "# myPow(x,n)\n",
    "\n"
   ]
  },
  {
   "cell_type": "code",
   "execution_count": null,
   "metadata": {},
   "outputs": [],
   "source": [
    "x, n = 0.00001, 2147483647\n",
    "# Output: 0.0\n",
    "myPow(x,n)\n"
   ]
  }
 ],
 "metadata": {
  "kernelspec": {
   "display_name": "Python 3.8.2 64-bit",
   "language": "python",
   "name": "python38264bit579c7998837c475ba0e81c984a932003"
  },
  "language_info": {
   "codemirror_mode": {
    "name": "ipython",
    "version": 3
   },
   "file_extension": ".py",
   "mimetype": "text/x-python",
   "name": "python",
   "nbconvert_exporter": "python",
   "pygments_lexer": "ipython3",
   "version": "3.8.2-final"
  }
 },
 "nbformat": 4,
 "nbformat_minor": 2
}