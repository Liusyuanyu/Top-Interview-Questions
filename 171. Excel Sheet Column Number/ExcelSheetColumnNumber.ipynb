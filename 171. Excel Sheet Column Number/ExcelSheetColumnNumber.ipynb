{
 "cells": [
  {
   "cell_type": "markdown",
   "metadata": {},
   "source": [
    "# Problem"
   ]
  },
  {
   "cell_type": "code",
   "execution_count": null,
   "metadata": {},
   "outputs": [],
   "source": [
    "Given a column title as appear in an Excel sheet, return its corresponding column number.\n",
    "For example:\n",
    "    A -> 1\n",
    "    B -> 2\n",
    "    C -> 3\n",
    "    ...\n",
    "    Z -> 26\n",
    "    AA -> 27\n",
    "    AB -> 28 \n",
    "    ..."
   ]
  },
  {
   "cell_type": "code",
   "execution_count": null,
   "metadata": {},
   "outputs": [],
   "source": [
    "class Solution:\n",
    "    def titleToNumber(self, s: str) -> int:\n",
    "        "
   ]
  },
  {
   "cell_type": "markdown",
   "metadata": {},
   "source": [
    "# Examples"
   ]
  },
  {
   "cell_type": "code",
   "execution_count": null,
   "metadata": {},
   "outputs": [],
   "source": [
    "# Example 1:\n",
    "Input: \"A\"\n",
    "Output: 1\n",
    "\n",
    "# Example 2:\n",
    "Input: \"AB\"\n",
    "Output: 28\n",
    "\n",
    "# Example 3:\n",
    "Input: \"ZY\"\n",
    "Output: 701"
   ]
  },
  {
   "cell_type": "markdown",
   "metadata": {},
   "source": [
    "# My Algorithms"
   ]
  },
  {
   "cell_type": "code",
   "execution_count": null,
   "metadata": {},
   "outputs": [],
   "source": [
    "def titleToNumber(s: str) -> int:\n",
    "    colDict = {}\n",
    "    ans = 0\n",
    "    for idx in range(1,27):\n",
    "        colDict[string.ascii_uppercase[idx-1]]=idx\n",
    "    for char in s:\n",
    "        ans*=26\n",
    "        ans+=colDict[char]    \n",
    "    return ans\n"
   ]
  },
  {
   "cell_type": "markdown",
   "metadata": {},
   "source": [
    "# Alternative algorithms"
   ]
  },
  {
   "cell_type": "markdown",
   "metadata": {},
   "source": [
    "# Sample Input and Test"
   ]
  },
  {
   "cell_type": "code",
   "execution_count": null,
   "metadata": {},
   "outputs": [],
   "source": [
    "def titleToNumber(s: str) -> int:\n",
    "    ans = 0\n",
    "    for char in s:\n",
    "        ans=ans*26+ord(char)-64    \n",
    "    return ans\n"
   ]
  },
  {
   "cell_type": "code",
   "execution_count": null,
   "metadata": {
    "tags": []
   },
   "outputs": [],
   "source": [
    "# Example 1:\n",
    "Input=\"A\"\n",
    "# Output: 1\n",
    "titleToNumber(Input)\n",
    "\n",
    "Input=\"AB\"\n",
    "# Output: 28\n",
    "titleToNumber(Input)\n",
    "\n",
    "Input= \"ZY\"\n",
    "# Output: 701\n",
    "titleToNumber(Input)\n"
   ]
  }
 ],
 "metadata": {
  "kernelspec": {
   "display_name": "Python 3.8.2 64-bit",
   "language": "python",
   "name": "python38264bit579c7998837c475ba0e81c984a932003"
  },
  "language_info": {
   "codemirror_mode": {
    "name": "ipython",
    "version": 3
   },
   "file_extension": ".py",
   "mimetype": "text/x-python",
   "name": "python",
   "nbconvert_exporter": "python",
   "pygments_lexer": "ipython3",
   "version": "3.8.2-final"
  }
 },
 "nbformat": 4,
 "nbformat_minor": 2
}