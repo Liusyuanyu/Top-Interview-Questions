{
 "cells": [
  {
   "cell_type": "markdown",
   "metadata": {},
   "source": [
    "# Problem"
   ]
  },
  {
   "cell_type": "code",
   "execution_count": null,
   "metadata": {},
   "outputs": [],
   "source": [
    "Evaluate the value of an arithmetic expression in Reverse Polish Notation.\n",
    "Valid operators are +, -, *, /. Each operand may be an integer or another expression.\n",
    "\n",
    "# Note:\n",
    "Division between two integers should truncate toward zero.\n",
    "The given RPN expression is always valid. That means the expression would always evaluate to a result and there won't be any divide by zero operation."
   ]
  },
  {
   "cell_type": "code",
   "execution_count": null,
   "metadata": {},
   "outputs": [],
   "source": [
    "class Solution:\n",
    "    def evalRPN(self, tokens: List[str]) -> int:\n",
    "        "
   ]
  },
  {
   "cell_type": "markdown",
   "metadata": {},
   "source": [
    "# Examples"
   ]
  },
  {
   "cell_type": "code",
   "execution_count": null,
   "metadata": {},
   "outputs": [],
   "source": [
    "# Example 1:\n",
    "Input: [\"2\", \"1\", \"+\", \"3\", \"*\"]\n",
    "Output: 9\n",
    "Explanation: ((2 + 1) * 3) = 9\n",
    "\n",
    "# Example 2:\n",
    "Input: [\"4\", \"13\", \"5\", \"/\", \"+\"]\n",
    "Output: 6\n",
    "Explanation: (4 + (13 / 5)) = 6\n",
    "\n",
    "\n",
    "# Example 3:\n",
    "Input: [\"10\", \"6\", \"9\", \"3\", \"+\", \"-11\", \"*\", \"/\", \"*\", \"17\", \"+\", \"5\", \"+\"]\n",
    "Output: 22\n",
    "Explanation: \n",
    "  ((10 * (6 / ((9 + 3) * -11))) + 17) + 5\n",
    "= ((10 * (6 / (12 * -11))) + 17) + 5\n",
    "= ((10 * (6 / -132)) + 17) + 5\n",
    "= ((10 * 0) + 17) + 5\n",
    "= (0 + 17) + 5\n",
    "= 17 + 5\n",
    "= 22"
   ]
  },
  {
   "cell_type": "markdown",
   "metadata": {},
   "source": [
    "# My Algorithms"
   ]
  },
  {
   "cell_type": "code",
   "execution_count": null,
   "metadata": {},
   "outputs": [],
   "source": [
    "def evalRPN(tokens: [str]) -> int:\n",
    "    def add(a,b):\n",
    "        return a+b\n",
    "    def minus(a,b):\n",
    "        return b-a\n",
    "    def multiple(a,b):\n",
    "        return a*b\n",
    "    def divide(a,b):\n",
    "        return int(b/a)\n",
    "    queue=[]\n",
    "    operand={'+' : add, '-':minus, '*':multiple, '/' :divide}\n",
    "\n",
    "    for exp in tokens:\n",
    "        try:\n",
    "            queue.append(int(exp))\n",
    "        except:\n",
    "            queue.append(operand[exp](queue.pop(),queue.pop()))\n",
    "    return queue[-1]"
   ]
  },
  {
   "cell_type": "markdown",
   "metadata": {},
   "source": [
    "# Alternative algorithms"
   ]
  },
  {
   "cell_type": "code",
   "execution_count": null,
   "metadata": {},
   "outputs": [],
   "source": [
    "def evalRPN(tokens: [str]) -> int:\n",
    "    queue=[]\n",
    "    operand={'+' : lambda a,b: a+b, '-':lambda a,b: b-a, '*':lambda a,b: b*a, '/' :lambda a,b: int(b/a)}\n",
    "    for exp in tokens:\n",
    "        if exp not in operand:\n",
    "            queue.append(int(exp))\n",
    "        else:\n",
    "            queue.append(operand[exp](queue.pop(),queue.pop()))\n",
    "    return queue[-1]"
   ]
  },
  {
   "cell_type": "markdown",
   "metadata": {},
   "source": [
    "# Sample Input and Test"
   ]
  },
  {
   "cell_type": "code",
   "execution_count": null,
   "metadata": {
    "tags": []
   },
   "outputs": [],
   "source": [
    "Input= [\"2\", \"1\", \"+\", \"3\", \"*\"]\n",
    "# Output: 9\n",
    "# Explanation: ((2 + 1) * 3) = 9\n",
    "evalRPN(Input)\n",
    "\n",
    "\n",
    "# Input= [\"4\", \"13\", \"5\", \"/\", \"+\"]\n",
    "# # Output: 6\n",
    "# # Explanation: (4 + (13 / 5)) = 6\n",
    "# evalRPN(Input)\n",
    "\n",
    "\n",
    "# Input=[\"10\", \"6\", \"9\", \"3\", \"+\", \"-11\", \"*\", \"/\", \"*\", \"17\", \"+\", \"5\", \"+\"]\n",
    "# # Output: 22\n",
    "# evalRPN(Input)\n",
    "\n"
   ]
  }
 ],
 "metadata": {
  "kernelspec": {
   "display_name": "Python 3.8.2 64-bit",
   "language": "python",
   "name": "python38264bit579c7998837c475ba0e81c984a932003"
  },
  "language_info": {
   "codemirror_mode": {
    "name": "ipython",
    "version": 3
   },
   "file_extension": ".py",
   "mimetype": "text/x-python",
   "name": "python",
   "nbconvert_exporter": "python",
   "pygments_lexer": "ipython3",
   "version": "3.8.2-final"
  }
 },
 "nbformat": 4,
 "nbformat_minor": 2
}