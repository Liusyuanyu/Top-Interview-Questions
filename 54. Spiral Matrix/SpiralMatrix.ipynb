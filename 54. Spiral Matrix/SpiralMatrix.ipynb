{
 "cells": [
  {
   "cell_type": "markdown",
   "metadata": {},
   "source": [
    "# Problem"
   ]
  },
  {
   "cell_type": "code",
   "execution_count": null,
   "metadata": {},
   "outputs": [],
   "source": [
    "Given a matrix of m x n elements (m rows, n columns), return all elements of the matrix in spiral order."
   ]
  },
  {
   "cell_type": "code",
   "execution_count": null,
   "metadata": {},
   "outputs": [],
   "source": [
    "class Solution:\n",
    "    def spiralOrder(self, matrix: List[List[int]]) -> List[int]:\n",
    "        "
   ]
  },
  {
   "cell_type": "markdown",
   "metadata": {},
   "source": [
    "# Examples"
   ]
  },
  {
   "cell_type": "code",
   "execution_count": null,
   "metadata": {},
   "outputs": [],
   "source": [
    "# Example 1:\n",
    "Input:\n",
    "[\n",
    " [ 1, 2, 3 ],\n",
    " [ 4, 5, 6 ],\n",
    " [ 7, 8, 9 ]\n",
    "]\n",
    "Output: [1,2,3,6,9,8,7,4,5]\n",
    "\n",
    "\n",
    "# Example 2:\n",
    "Input:\n",
    "[\n",
    "  [1, 2, 3, 4],\n",
    "  [5, 6, 7, 8],\n",
    "  [9,10,11,12]\n",
    "]\n",
    "Output: [1,2,3,4,8,12,11,10,9,5,6,7]\n",
    "\n"
   ]
  },
  {
   "cell_type": "markdown",
   "metadata": {},
   "source": [
    "# My Algorithms"
   ]
  },
  {
   "cell_type": "code",
   "execution_count": null,
   "metadata": {},
   "outputs": [],
   "source": [
    "def spiralOrder(matrix: [[int]]) -> [int]:\n",
    "    if not matrix:\n",
    "        return []\n",
    "    fourDir=[[0,1],[1,0],[0,-1],[-1,0]]\n",
    "    rows =len(matrix)\n",
    "    cols =len(matrix[0])\n",
    "    ans =[]\n",
    "    row=0\n",
    "    col=0\n",
    "    direct = 0\n",
    "    nxtRow = fourDir[0][0] \n",
    "    nxtCol = fourDir[0][1] \n",
    "\n",
    "    while(row>=0 and col >=0 and row < rows and col < cols and matrix[row][col] is not None):\n",
    "        while(row>=0 and col >=0 and row < rows and col < cols and matrix[row][col] is not None):\n",
    "            ans.append(matrix[row][col])\n",
    "            matrix[row][col]=None\n",
    "            row +=nxtRow\n",
    "            col +=nxtCol\n",
    "        row -=nxtRow\n",
    "        col -=nxtCol\n",
    "        direct+=1\n",
    "        nxtRow = fourDir[direct%4][0] \n",
    "        nxtCol = fourDir[direct%4][1] \n",
    "        row +=nxtRow\n",
    "        col +=nxtCol\n",
    "    return ans"
   ]
  },
  {
   "cell_type": "code",
   "execution_count": null,
   "metadata": {},
   "outputs": [],
   "source": []
  },
  {
   "cell_type": "markdown",
   "metadata": {},
   "source": [
    "# Alternative algorithms"
   ]
  },
  {
   "cell_type": "code",
   "execution_count": null,
   "metadata": {},
   "outputs": [],
   "source": []
  },
  {
   "cell_type": "markdown",
   "metadata": {},
   "source": [
    "# Sample Input and Test"
   ]
  },
  {
   "cell_type": "code",
   "execution_count": null,
   "metadata": {
    "tags": []
   },
   "outputs": [],
   "source": [
    "# Input=[\n",
    "#   [1, 2, 3, 4],\n",
    "#   [5, 6, 7, 8],\n",
    "#   [9,10,11,12]\n",
    "# ]\n",
    "# # Output: [1,2,3,4,8,12,11,10,9,5,6,7]\n",
    "# spiralOrder(Input)\n",
    "\n",
    "\n",
    "Input=[\n",
    " [ 1, 2, 3 ],\n",
    " [ 4, 5, 6 ],\n",
    " [ 7, 8, 9 ]\n",
    "]\n",
    "# Output: [1,2,3,6,9,8,7,4,5]\n",
    "spiralOrder(Input)\n",
    "\n"
   ]
  },
  {
   "cell_type": "code",
   "execution_count": null,
   "metadata": {},
   "outputs": [],
   "source": [
    "Input=[[1]]\n",
    "# Output: [1]\n",
    "spiralOrder(Input)\n",
    "\n",
    "Input= [[2,5],[8,4],[0,-1]]\n",
    "# Expected : [2,5,4,-1,0,8]\n",
    "spiralOrder(Input)\n",
    "\n",
    "\n"
   ]
  },
  {
   "cell_type": "code",
   "execution_count": null,
   "metadata": {},
   "outputs": [],
   "source": []
  }
 ],
 "metadata": {
  "kernelspec": {
   "display_name": "Python 3.8.2 64-bit",
   "language": "python",
   "name": "python38264bit579c7998837c475ba0e81c984a932003"
  },
  "language_info": {
   "codemirror_mode": {
    "name": "ipython",
    "version": 3
   },
   "file_extension": ".py",
   "mimetype": "text/x-python",
   "name": "python",
   "nbconvert_exporter": "python",
   "pygments_lexer": "ipython3",
   "version": "3.8.2-final"
  }
 },
 "nbformat": 4,
 "nbformat_minor": 2
}