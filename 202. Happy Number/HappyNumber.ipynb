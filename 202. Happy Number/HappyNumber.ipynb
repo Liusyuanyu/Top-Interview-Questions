{
 "cells": [
  {
   "cell_type": "markdown",
   "metadata": {},
   "source": [
    "# Problem"
   ]
  },
  {
   "cell_type": "code",
   "execution_count": null,
   "metadata": {},
   "outputs": [],
   "source": [
    "Write an algorithm to determine if a number n is \"happy\".\n",
    "A happy number is a number defined by the following process: Starting with any positive integer, replace the number by the sum of the squares of its digits, and repeat the process until the number equals 1 (where it will stay), or it loops endlessly in a cycle which does not include 1. Those numbers for which this process ends in 1 are happy numbers.\n",
    "Return True if n is a happy number, and False if not."
   ]
  },
  {
   "cell_type": "code",
   "execution_count": null,
   "metadata": {},
   "outputs": [],
   "source": [
    "class Solution:\n",
    "    def isHappy(self, n: int) -> bool:\n",
    "        "
   ]
  },
  {
   "cell_type": "markdown",
   "metadata": {},
   "source": [
    "# Examples"
   ]
  },
  {
   "cell_type": "code",
   "execution_count": null,
   "metadata": {},
   "outputs": [],
   "source": [
    "Input: 19\n",
    "Output: true\n",
    "Explanation: \n",
    "1^2 + 9^2 = 82\n",
    "8^2 + 2^2 = 68\n",
    "6^2 + 8^2 = 100\n",
    "1^2 + 0^2 + 0^2 = 1"
   ]
  },
  {
   "cell_type": "markdown",
   "metadata": {},
   "source": [
    "# My Algorithms"
   ]
  },
  {
   "cell_type": "code",
   "execution_count": 35,
   "metadata": {},
   "outputs": [],
   "source": [
    "def isHappy(n: int) -> bool:\n",
    "    visited = set()\n",
    "    while(n not in visited):\n",
    "        visited.add(n)\n",
    "        newVal=0\n",
    "        while(n):\n",
    "            newVal += (n%10)**2\n",
    "            n//=10\n",
    "        if newVal==1:\n",
    "            return True\n",
    "        else:\n",
    "            n=newVal\n",
    "    return False"
   ]
  },
  {
   "cell_type": "code",
   "execution_count": 45,
   "metadata": {},
   "outputs": [],
   "source": [
    "def isHappy(n: int) -> bool:\n",
    "    visited = set()\n",
    "    while(n not in visited):\n",
    "        visited.add(n)\n",
    "        newVal=sum([int(digit)**2 for digit in str(n)])\n",
    "        if newVal==1:\n",
    "            return True\n",
    "        else:\n",
    "            n=newVal\n",
    "    return False"
   ]
  },
  {
   "cell_type": "markdown",
   "metadata": {},
   "source": [
    "# Alternative algorithms"
   ]
  },
  {
   "cell_type": "code",
   "execution_count": 53,
   "metadata": {
    "tags": []
   },
   "outputs": [],
   "source": [
    "def isHappy(n: int) -> bool:\n",
    "    visited = set()\n",
    "    while(n !=1):\n",
    "        visited.add(n)\n",
    "        n=sum([int(digit)**2 for digit in str(n)])\n",
    "        if n in visited:\n",
    "            return False\n",
    "    return True"
   ]
  },
  {
   "cell_type": "code",
   "execution_count": 58,
   "metadata": {},
   "outputs": [],
   "source": [
    "def isHappy(n: int) -> bool:\n",
    "    visited = set()\n",
    "    while(True):\n",
    "        if n ==1: return True\n",
    "        if n in visited: return False\n",
    "        visited.add(n)\n",
    "        n=sum([int(digit)**2 for digit in str(n)])"
   ]
  },
  {
   "cell_type": "markdown",
   "metadata": {},
   "source": [
    "# Sample Input and Test"
   ]
  },
  {
   "cell_type": "code",
   "execution_count": 61,
   "metadata": {
    "tags": []
   },
   "outputs": [
    {
     "output_type": "execute_result",
     "data": {
      "text/plain": "False"
     },
     "metadata": {},
     "execution_count": 61
    }
   ],
   "source": [
    "# isHappy(19)\n",
    "# # True\n",
    "\n",
    "\n",
    "isHappy(4)\n",
    "# False\n",
    "\n"
   ]
  }
 ],
 "metadata": {
  "kernelspec": {
   "display_name": "Python 3.8.2 64-bit",
   "language": "python",
   "name": "python38264bit579c7998837c475ba0e81c984a932003"
  },
  "language_info": {
   "codemirror_mode": {
    "name": "ipython",
    "version": 3
   },
   "file_extension": ".py",
   "mimetype": "text/x-python",
   "name": "python",
   "nbconvert_exporter": "python",
   "pygments_lexer": "ipython3",
   "version": "3.8.2-final"
  }
 },
 "nbformat": 4,
 "nbformat_minor": 2
}