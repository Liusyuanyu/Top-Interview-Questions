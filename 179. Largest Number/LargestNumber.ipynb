{
 "cells": [
  {
   "cell_type": "markdown",
   "metadata": {},
   "source": [
    "# Problem"
   ]
  },
  {
   "cell_type": "code",
   "execution_count": null,
   "metadata": {},
   "outputs": [],
   "source": [
    "Given a list of non negative integers, arrange them such that they form the largest number."
   ]
  },
  {
   "cell_type": "code",
   "execution_count": null,
   "metadata": {},
   "outputs": [],
   "source": [
    "class Solution:\n",
    "    def largestNumber(self, nums: List[int]) -> str:\n",
    "        "
   ]
  },
  {
   "cell_type": "markdown",
   "metadata": {},
   "source": [
    "# Examples"
   ]
  },
  {
   "cell_type": "code",
   "execution_count": null,
   "metadata": {},
   "outputs": [],
   "source": [
    "# Example 1:\n",
    "Input: [10,2]\n",
    "Output: \"210\"\n",
    "\n",
    "# Example 2:\n",
    "Input: [3,30,34,5,9]\n",
    "Output: \"9534330\""
   ]
  },
  {
   "cell_type": "markdown",
   "metadata": {},
   "source": [
    "# My Algorithms"
   ]
  },
  {
   "cell_type": "code",
   "execution_count": null,
   "metadata": {},
   "outputs": [],
   "source": [
    "# ###########################\n",
    "# ###     Wrong Answer    ###\n",
    "# ###########################\n",
    "\n",
    "# def largestNumber(nums: [int]) -> str:\n",
    "#     nums =[str(num) for num in nums]\n",
    "#     nums.sort(reverse=True)\n",
    "#     ans = ''\n",
    "#     for num in nums:\n",
    "#         ans+=num\n",
    "#     return ans"
   ]
  },
  {
   "cell_type": "code",
   "execution_count": null,
   "metadata": {},
   "outputs": [],
   "source": [
    "# ###########################\n",
    "# ###     Wrong Answer    ###\n",
    "# ###########################\n",
    "\n",
    "# def largestNumber(nums: [int]) -> str:\n",
    "#     nums =[str(num) for num in nums]\n",
    "#     maxLen = max([len(num) for num in nums])\n",
    "#     nums.sort(reverse=True, key=lambda x : x+x[0]*(maxLen-len(x)))\n",
    "#     return ''.join(nums)\n"
   ]
  },
  {
   "cell_type": "markdown",
   "metadata": {},
   "source": [
    "# Alternative algorithms"
   ]
  },
  {
   "cell_type": "code",
   "execution_count": null,
   "metadata": {},
   "outputs": [],
   "source": [
    "class myCompare(str):\n",
    "    def __lt__(self, other):\n",
    "        return self+other < other+self\n",
    "\n",
    "def largestNumber(nums: [int]) -> str:\n",
    "    nums=sorted(map(str,nums), reverse=True, key=myCompare)\n",
    "\n",
    "    return '0' if nums[0]=='0' else ''.join(nums)\n"
   ]
  },
  {
   "cell_type": "markdown",
   "metadata": {},
   "source": [
    "# Sample Input and Test"
   ]
  },
  {
   "cell_type": "code",
   "execution_count": null,
   "metadata": {
    "tags": []
   },
   "outputs": [],
   "source": [
    "Input= [10,2]\n",
    "# Output: \"210\"\n",
    "largestNumber(Input)\n",
    "\n",
    "Input= [3,30,34,5,9]\n",
    "# Output: \"9534330\"\n",
    "largestNumber(Input)\n",
    "\n",
    "\n",
    "Input= [121,12]\n",
    "# Output: \"12121\"\n",
    "largestNumber(Input)\n",
    "\n",
    "\n",
    "Input= [0,0]\n",
    "# Output: \"0\"\n",
    "largestNumber(Input)\n",
    "\n"
   ]
  }
 ],
 "metadata": {
  "kernelspec": {
   "display_name": "Python 3.8.2 64-bit",
   "language": "python",
   "name": "python38264bit579c7998837c475ba0e81c984a932003"
  },
  "language_info": {
   "codemirror_mode": {
    "name": "ipython",
    "version": 3
   },
   "file_extension": ".py",
   "mimetype": "text/x-python",
   "name": "python",
   "nbconvert_exporter": "python",
   "pygments_lexer": "ipython3",
   "version": "3.8.2-final"
  }
 },
 "nbformat": 4,
 "nbformat_minor": 2
}