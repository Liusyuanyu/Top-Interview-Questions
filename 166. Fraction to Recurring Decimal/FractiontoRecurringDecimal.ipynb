{
 "cells": [
  {
   "cell_type": "markdown",
   "metadata": {},
   "source": [
    "# Problem"
   ]
  },
  {
   "cell_type": "code",
   "execution_count": null,
   "metadata": {},
   "outputs": [],
   "source": [
    "Given two integers representing the numerator and denominator of a fraction, return the fraction in string format.\n",
    "If the fractional part is repeating, enclose the repeating part in parentheses.\n",
    "If multiple answers are possible, just return any of them.\n"
   ]
  },
  {
   "cell_type": "code",
   "execution_count": null,
   "metadata": {},
   "outputs": [],
   "source": [
    "class Solution:\n",
    "    def fractionToDecimal(self, numerator: int, denominator: int) -> str:\n",
    "        "
   ]
  },
  {
   "cell_type": "markdown",
   "metadata": {},
   "source": [
    "# Examples"
   ]
  },
  {
   "cell_type": "code",
   "execution_count": null,
   "metadata": {},
   "outputs": [],
   "source": [
    "# Example 1:\n",
    "Input: numerator = 1, denominator = 2\n",
    "Output: \"0.5\"\n",
    "\n",
    "# Example 2:\n",
    "Input: numerator = 2, denominator = 1\n",
    "Output: \"2\"\n",
    "\n",
    "# Example 3:\n",
    "Input: numerator = 2, denominator = 3\n",
    "Output: \"0.(6)\""
   ]
  },
  {
   "cell_type": "markdown",
   "metadata": {},
   "source": [
    "# My Algorithms"
   ]
  },
  {
   "cell_type": "code",
   "execution_count": null,
   "metadata": {},
   "outputs": [],
   "source": [
    "# ###################################\n",
    "# ###         Wrong Answer        ###\n",
    "# ###################################\n",
    "\n",
    "# def fractionToDecimal(numerator: int, denominator: int) -> str:\n",
    "#     if numerator%denominator==0:\n",
    "#         return str(numerator//denominator)\n",
    "\n",
    "#     ans = '-' if numerator*denominator < 0 else ''\n",
    "#     numerator = abs(numerator)\n",
    "#     denominator = abs(denominator)\n",
    "#     ans += str(numerator//denominator)+'.'\n",
    "#     dec = []\n",
    "#     modNum = numerator%denominator\n",
    "#     nums = set()\n",
    "#     while(modNum!=0):\n",
    "#         modNum*=10\n",
    "#         quotient =modNum//denominator \n",
    "#         if quotient in nums:\n",
    "#             dec.insert(dec.index(str(quotient)),'(')\n",
    "#             dec.append(')')\n",
    "#             break\n",
    "#         nums.add(quotient)\n",
    "#         dec.append(str(quotient))\n",
    "#         modNum=modNum%denominator\n",
    "\n",
    "#     return ans+''.join(dec)"
   ]
  },
  {
   "cell_type": "code",
   "execution_count": null,
   "metadata": {},
   "outputs": [],
   "source": [
    "def fractionToDecimal(numerator: int, denominator: int) -> str:\n",
    "    if numerator%denominator==0:\n",
    "        return str(numerator//denominator)\n",
    "\n",
    "    ans = '-' if (numerator<0)^(denominator < 0)==1 else ''\n",
    "    numerator = abs(numerator)\n",
    "    denominator = abs(denominator)\n",
    "    ans += str(numerator//denominator)+'.'\n",
    "    dec = []\n",
    "    modNum = numerator%denominator\n",
    "    nums = {modNum:0}\n",
    "    count =1\n",
    "    while(modNum):\n",
    "        modNum*=10\n",
    "        quotient,modNum =divmod(modNum,denominator) \n",
    "        dec.append(str(quotient))\n",
    "        if modNum in nums:\n",
    "            dec.insert(nums[modNum],'(')\n",
    "            dec.append(')')\n",
    "            break\n",
    "        nums[modNum] = count\n",
    "        count+=1\n",
    "\n",
    "    return ans+''.join(dec)"
   ]
  },
  {
   "cell_type": "markdown",
   "metadata": {},
   "source": [
    "# Alternative algorithms"
   ]
  },
  {
   "cell_type": "code",
   "execution_count": null,
   "metadata": {},
   "outputs": [],
   "source": [
    "def fractionToDecimal(numerator: int, denominator: int) -> str:\n",
    "    if numerator%denominator==0:\n",
    "        return str(numerator//denominator)\n",
    "\n",
    "    ans = '-' if (numerator<0)^(denominator < 0)==1 else ''\n",
    "    numerator = abs(numerator)\n",
    "    denominator = abs(denominator)\n",
    "    quotient,modNum =divmod(numerator,denominator) \n",
    "    ans += str(quotient)+'.'\n",
    "    dec = []\n",
    "    nums = {modNum:0}\n",
    "    count =1\n",
    "    while(modNum):\n",
    "        modNum*=10\n",
    "        quotient,modNum =divmod(modNum,denominator) \n",
    "        dec.append(str(quotient))\n",
    "        if modNum in nums:\n",
    "            dec.insert(nums[modNum],'(')\n",
    "            dec.append(')')\n",
    "            break\n",
    "        nums[modNum] = count\n",
    "        count+=1\n",
    "\n",
    "    return ans+''.join(dec)"
   ]
  },
  {
   "cell_type": "markdown",
   "metadata": {},
   "source": [
    "# Sample Input and Test"
   ]
  },
  {
   "cell_type": "code",
   "execution_count": null,
   "metadata": {
    "tags": []
   },
   "outputs": [],
   "source": [
    "numerator = 1\n",
    "denominator = 2\n",
    "# Output: \"0.5\"\n",
    "fractionToDecimal(numerator,denominator)\n",
    "\n",
    "numerator = 2\n",
    "denominator = 1\n",
    "# Output: \"2\"\n",
    "fractionToDecimal(numerator,denominator)\n",
    "\n",
    "numerator = 2\n",
    "denominator = 3\n",
    "# Output: \"0.(6)\"\n",
    "fractionToDecimal(numerator,denominator)\n",
    "\n",
    "numerator = 4\n",
    "denominator = 9\n",
    "# Output: \"0.(4)\"\n",
    "fractionToDecimal(numerator,denominator)\n",
    "\n",
    "numerator = 4\n",
    "denominator = 333\n",
    "# Output: \"0.(012)\"\n",
    "fractionToDecimal(numerator,denominator)\n"
   ]
  },
  {
   "cell_type": "code",
   "execution_count": null,
   "metadata": {
    "tags": []
   },
   "outputs": [],
   "source": [
    "# numerator = -5\n",
    "# denominator = 2\n",
    "# # Output: \"-2.5\"\n",
    "# fractionToDecimal(numerator,denominator)\n",
    "\n",
    "\n",
    "# numerator = -5\n",
    "# denominator = -2\n",
    "# # Output: \"2.5\"\n",
    "# fractionToDecimal(numerator,denominator)\n",
    "\n",
    "\n",
    "numerator = 1\n",
    "denominator = 6\n",
    "# Output: \"0.1(6)\"\n",
    "fractionToDecimal(numerator,denominator)\n"
   ]
  }
 ],
 "metadata": {
  "kernelspec": {
   "display_name": "Python 3.8.2 64-bit",
   "language": "python",
   "name": "python38264bit579c7998837c475ba0e81c984a932003"
  },
  "language_info": {
   "codemirror_mode": {
    "name": "ipython",
    "version": 3
   },
   "file_extension": ".py",
   "mimetype": "text/x-python",
   "name": "python",
   "nbconvert_exporter": "python",
   "pygments_lexer": "ipython3",
   "version": "3.8.2-final"
  }
 },
 "nbformat": 4,
 "nbformat_minor": 2
}