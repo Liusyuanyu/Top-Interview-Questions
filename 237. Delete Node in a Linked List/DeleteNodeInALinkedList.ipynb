{
 "cells": [
  {
   "cell_type": "markdown",
   "metadata": {},
   "source": [
    "# Problem"
   ]
  },
  {
   "cell_type": "code",
   "execution_count": null,
   "metadata": {},
   "outputs": [],
   "source": [
    "Write a function to delete a node (except the tail) in a singly linked list, given only access to that node.\n",
    "Given linked list -- head = [4,5,1,9], which looks like following:\n",
    "\n",
    "\n",
    "# Note:\n",
    "The linked list will have at least two elements.\n",
    "All of the nodes' values will be unique.\n",
    "The given node will not be the tail and it will always be a valid node of the linked list.\n",
    "Do not return anything from your function."
   ]
  },
  {
   "cell_type": "code",
   "execution_count": null,
   "metadata": {},
   "outputs": [],
   "source": [
    "# Definition for singly-linked list.\n",
    "# class ListNode:\n",
    "#     def __init__(self, x):\n",
    "#         self.val = x\n",
    "#         self.next = None\n",
    "\n",
    "class Solution:\n",
    "    def deleteNode(self, node):\n",
    "        \"\"\"\n",
    "        :type node: ListNode\n",
    "        :rtype: void Do not return anything, modify node in-place instead.\n",
    "        \"\"\"\n",
    "        "
   ]
  },
  {
   "cell_type": "markdown",
   "metadata": {},
   "source": [
    "# Examples"
   ]
  },
  {
   "cell_type": "code",
   "execution_count": null,
   "metadata": {},
   "outputs": [],
   "source": [
    "# Example 1:\n",
    "Input: head = [4,5,1,9], node = 5\n",
    "Output: [4,1,9]\n",
    "Explanation: You are given the second node with value 5, the linked list should become 4 -> 1 -> 9 after calling your function.\n",
    "\n",
    "\n",
    "# Example 2:\n",
    "Input: head = [4,5,1,9], node = 1\n",
    "Output: [4,5,9]\n",
    "Explanation: You are given the third node with value 1, the linked list should become 4 -> 5 -> 9 after calling your function."
   ]
  },
  {
   "cell_type": "code",
   "execution_count": null,
   "metadata": {},
   "outputs": [],
   "source": [
    "class ListNode:\n",
    "    # def __init__(self, x):\n",
    "    def __init__(self, x, node=None):\n",
    "        self.val = x\n",
    "        self.next = node\n",
    "        # self.next = None"
   ]
  },
  {
   "cell_type": "markdown",
   "metadata": {},
   "source": [
    "# My Algorithms"
   ]
  },
  {
   "cell_type": "code",
   "execution_count": null,
   "metadata": {},
   "outputs": [],
   "source": [
    "def deleteNode(node):\n",
    "    preNone = node\n",
    "    while(node.next):\n",
    "        node.val = node.next.val\n",
    "        preNone = node\n",
    "        node = node.next\n",
    "    preNone.next = None"
   ]
  },
  {
   "cell_type": "markdown",
   "metadata": {},
   "source": [
    "# Alternative algorithms"
   ]
  },
  {
   "cell_type": "code",
   "execution_count": null,
   "metadata": {},
   "outputs": [],
   "source": [
    "def deleteNode(node):\n",
    "    node.val = node.next.val\n",
    "    node.next = node.next.next"
   ]
  },
  {
   "cell_type": "markdown",
   "metadata": {},
   "source": [
    "# Sample Input and Test"
   ]
  },
  {
   "cell_type": "code",
   "execution_count": null,
   "metadata": {
    "tags": []
   },
   "outputs": [],
   "source": [
    "# Input: head = [4,5,1,9], node = 5\n",
    "# Output: [4,1,9]\n",
    "\n",
    "node = ListNode(9)\n",
    "node = ListNode(1,node)\n",
    "node = ListNode(5,node)\n",
    "node5 = node\n",
    "node = ListNode(4,node)\n",
    "print('Pre :')\n",
    "printList(node)\n",
    "deleteNode(node5)\n",
    "print('Post :')\n",
    "printList(node)\n"
   ]
  },
  {
   "cell_type": "code",
   "execution_count": null,
   "metadata": {
    "tags": []
   },
   "outputs": [],
   "source": [
    "# Input: head = [4,5,1,9], node = 1\n",
    "# Output: [4,5,9]\n",
    "\n",
    "node = ListNode(9)\n",
    "node = ListNode(1,node)\n",
    "node1 = node\n",
    "node = ListNode(5,node)\n",
    "node = ListNode(4,node)\n",
    "print('Pre :')\n",
    "printList(node)\n",
    "deleteNode(node1)\n",
    "print('Post :')\n",
    "printList(node)"
   ]
  },
  {
   "cell_type": "markdown",
   "metadata": {},
   "source": [
    "# Print List"
   ]
  },
  {
   "cell_type": "code",
   "execution_count": null,
   "metadata": {},
   "outputs": [],
   "source": [
    "def printList(node):\n",
    "    while(node):\n",
    "        print(node.val, end=' -> ')\n",
    "        node = node.next\n",
    "    print()"
   ]
  }
 ],
 "metadata": {
  "kernelspec": {
   "display_name": "Python 3.8.2 64-bit",
   "language": "python",
   "name": "python38264bit579c7998837c475ba0e81c984a932003"
  },
  "language_info": {
   "codemirror_mode": {
    "name": "ipython",
    "version": 3
   },
   "file_extension": ".py",
   "mimetype": "text/x-python",
   "name": "python",
   "nbconvert_exporter": "python",
   "pygments_lexer": "ipython3",
   "version": "3.8.2-final"
  }
 },
 "nbformat": 4,
 "nbformat_minor": 2
}