{
 "cells": [
  {
   "cell_type": "markdown",
   "metadata": {},
   "source": [
    "# Problem"
   ]
  },
  {
   "cell_type": "code",
   "execution_count": null,
   "metadata": {},
   "outputs": [],
   "source": [
    "A message containing letters from A-Z is being encoded to numbers using the following mapping:\n",
    "'A' -> 1\n",
    "'B' -> 2\n",
    "...\n",
    "'Z' -> 26\n",
    "\n",
    "Given a non-empty string containing only digits, determine the total number of ways to decode it."
   ]
  },
  {
   "cell_type": "code",
   "execution_count": null,
   "metadata": {},
   "outputs": [],
   "source": [
    "class Solution:\n",
    "    def numDecodings(self, s: str) -> int:\n",
    "        "
   ]
  },
  {
   "cell_type": "markdown",
   "metadata": {},
   "source": [
    "# Examples"
   ]
  },
  {
   "cell_type": "code",
   "execution_count": null,
   "metadata": {},
   "outputs": [],
   "source": [
    "# Example 1:\n",
    "Input: \"12\"\n",
    "Output: 2\n",
    "Explanation: It could be decoded as \"AB\" (1 2) or \"L\" (12).\n",
    "\n",
    "# Example 2:\n",
    "Input: \"226\"\n",
    "Output: 3\n",
    "Explanation: It could be decoded as \"BZ\" (2 26), \"VF\" (22 6), or \"BBF\" (2 2 6)."
   ]
  },
  {
   "cell_type": "markdown",
   "metadata": {},
   "source": [
    "# My Algorithms"
   ]
  },
  {
   "cell_type": "code",
   "execution_count": null,
   "metadata": {},
   "outputs": [],
   "source": [
    "###############################\n",
    "###     Wrong Answer        ###\n",
    "###############################\n",
    "\n",
    "def numDecodings(s: str) -> int:\n",
    "    length = len(s)\n",
    "    dp = [1]*(length)\n",
    "    valids = set([str(idx) for idx in range(1,27)])\n",
    "    for idx in range(1, length):\n",
    "        if s[idx] in valids and s[idx-1:idx+1] in valids:\n",
    "            dp[idx] = dp[idx-1] + dp[idx-2]\n",
    "        else:\n",
    "            dp[idx] = dp[idx-1]\n",
    "    print(dp)\n",
    "    return dp[length-1]"
   ]
  },
  {
   "cell_type": "code",
   "execution_count": null,
   "metadata": {},
   "outputs": [],
   "source": [
    "###############################\n",
    "###     Wrong Answer        ###\n",
    "###############################\n",
    "\n",
    "def numDecodings(s: str) -> int:\n",
    "    length = len(s)\n",
    "    dp = [1]*(length+1)\n",
    "    valids = set([str(idx) for idx in range(1,27)])\n",
    "    dp[1] = 1 if s[0] in valids else 0\n",
    "    for idx in range(1, length):\n",
    "        if s[idx] in valids and s[idx-1:idx+1] in valids:\n",
    "            dp[idx+1] = dp[idx] + dp[idx-1]\n",
    "        else:\n",
    "            dp[idx+1] = dp[idx]\n",
    "    return dp[length]"
   ]
  },
  {
   "cell_type": "code",
   "execution_count": null,
   "metadata": {},
   "outputs": [],
   "source": [
    "def numDecodings(s: str) -> int:\n",
    "    length = len(s)\n",
    "    dp = [1]*(length+1)\n",
    "    valids = set([str(idx) for idx in range(1,27)])\n",
    "    dp[1] = 1 if s[0] in valids else 0\n",
    "    for idx in range(1, length):\n",
    "        if s[idx] not in valids and s[idx-1:idx+1] not in valids:\n",
    "            return 0\n",
    "        elif s[idx] not in valids and s[idx-1:idx+1] in valids:\n",
    "            dp[idx+1] = dp[idx-1]\n",
    "        elif s[idx] in valids and s[idx-1:idx+1] in valids:\n",
    "            dp[idx+1] = dp[idx] + dp[idx-1]\n",
    "        else:\n",
    "            dp[idx+1] = dp[idx]\n",
    "    return dp[length]"
   ]
  },
  {
   "cell_type": "code",
   "execution_count": null,
   "metadata": {},
   "outputs": [],
   "source": [
    "def numDecodings(s: str) -> int:\n",
    "    length = len(s)\n",
    "    valids = set([str(idx) for idx in range(1,27)])\n",
    "    prefix2=1\n",
    "    prefix1 = 1 if s[0] in valids else 0\n",
    "\n",
    "    for idx in range(1, length):\n",
    "        if s[idx] not in valids and s[idx-1:idx+1] not in valids:\n",
    "            return 0\n",
    "        this=0\n",
    "        if s[idx] in valids:\n",
    "            this = prefix1\n",
    "        if s[idx-1:idx+1] in valids:\n",
    "            this += prefix2\n",
    "        prefix1, prefix2 = this, prefix1\n",
    "    return prefix1"
   ]
  },
  {
   "cell_type": "markdown",
   "metadata": {},
   "source": [
    "# Alternative algorithms"
   ]
  },
  {
   "cell_type": "code",
   "execution_count": null,
   "metadata": {},
   "outputs": [],
   "source": [
    "def numDecodings(s: str) -> int:\n",
    "    length = len(s)\n",
    "    dp = [0]*(length+1)\n",
    "    dp[0]=1\n",
    "    for idx in range(length):\n",
    "        if s[idx] !='0':\n",
    "            dp[idx+1] = dp[idx]\n",
    "        if idx !=0 and '09'< s[idx-1:idx+1] < '27':\n",
    "            dp[idx+1] += dp[idx-1]\n",
    "    return dp[-1]"
   ]
  },
  {
   "cell_type": "code",
   "execution_count": null,
   "metadata": {},
   "outputs": [],
   "source": [
    "def numDecodings(s: str) -> int:\n",
    "    prefix1=1\n",
    "    prefix2=1\n",
    "    for idx in range(len(s)):\n",
    "        this = 0\n",
    "        if s[idx] !='0':\n",
    "            this = prefix1\n",
    "        if idx !=0 and '09'< s[idx-1:idx+1] < '27':\n",
    "            this += prefix2\n",
    "        prefix1, prefix2 = this, prefix1\n",
    "    return prefix1"
   ]
  },
  {
   "cell_type": "markdown",
   "metadata": {},
   "source": [
    "# Sample Input and Test"
   ]
  },
  {
   "cell_type": "code",
   "execution_count": null,
   "metadata": {
    "tags": []
   },
   "outputs": [],
   "source": [
    "Input=\"12\"\n",
    "# Output: 2\n",
    "# Explanation: It could be decoded as \"AB\" (1 2) or \"L\" (12).\n",
    "numDecodings(Input)\n",
    "\n",
    "\n",
    "Input=\"226\"\n",
    "# # Output: 3\n",
    "# Explanation: It could be decoded as \"BZ\" (2 26), \"VF\" (22 6), or \"BBF\" (2 2 6).\n",
    "numDecodings(Input)\n",
    "\n",
    "\n",
    "Input=\"100\"\n",
    "# # Output: 0\n",
    "numDecodings(Input)\n",
    "\n",
    "Input=\"110\"\n",
    "# # Output: 1\n",
    "numDecodings(Input)\n",
    "\n"
   ]
  },
  {
   "cell_type": "code",
   "execution_count": null,
   "metadata": {
    "tags": []
   },
   "outputs": [],
   "source": [
    "Input=\"129\"\n",
    "# Output: 2\n",
    "numDecodings(Input)\n",
    "\n",
    "Input=\"1224\"\n",
    "# Output: 5\n",
    "numDecodings(Input)\n",
    "\n",
    "Input=\"10021\"\n",
    "# Output: 0\n",
    "numDecodings(Input)\n",
    "\n",
    "Input=\"102213\"\n",
    "# Output: 5\n",
    "numDecodings(Input)\n",
    "\n",
    "Input=\"0\"\n",
    "# # Output: 0\n",
    "numDecodings(Input)\n",
    "\n",
    "# Input=\"1\"\n",
    "# # # Output: 1\n",
    "# numDecodings(Input)\n",
    "\n"
   ]
  }
 ],
 "metadata": {
  "kernelspec": {
   "display_name": "Python 3.8.2 64-bit",
   "language": "python",
   "name": "python38264bit579c7998837c475ba0e81c984a932003"
  },
  "language_info": {
   "codemirror_mode": {
    "name": "ipython",
    "version": 3
   },
   "file_extension": ".py",
   "mimetype": "text/x-python",
   "name": "python",
   "nbconvert_exporter": "python",
   "pygments_lexer": "ipython3",
   "version": "3.8.2-final"
  }
 },
 "nbformat": 4,
 "nbformat_minor": 2
}