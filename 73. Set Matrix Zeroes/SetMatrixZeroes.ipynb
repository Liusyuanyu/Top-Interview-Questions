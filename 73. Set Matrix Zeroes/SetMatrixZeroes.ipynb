{
 "cells": [
  {
   "cell_type": "markdown",
   "metadata": {},
   "source": [
    "# Problem"
   ]
  },
  {
   "cell_type": "code",
   "execution_count": null,
   "metadata": {},
   "outputs": [],
   "source": [
    "Given a m x n matrix, if an element is 0, set its entire row and column to 0. Do it in-place."
   ]
  },
  {
   "cell_type": "code",
   "execution_count": null,
   "metadata": {},
   "outputs": [],
   "source": [
    "class Solution:\n",
    "    def setZeroes(self, matrix: List[List[int]]) -> None:\n",
    "        \"\"\"\n",
    "        Do not return anything, modify matrix in-place instead.\n",
    "        \"\"\"\n",
    "        "
   ]
  },
  {
   "cell_type": "markdown",
   "metadata": {},
   "source": [
    "# Examples"
   ]
  },
  {
   "cell_type": "code",
   "execution_count": null,
   "metadata": {},
   "outputs": [],
   "source": [
    "# Example 1:\n",
    "Input: \n",
    "[\n",
    "  [1,1,1],\n",
    "  [1,0,1],\n",
    "  [1,1,1]\n",
    "]\n",
    "Output: \n",
    "[\n",
    "  [1,0,1],\n",
    "  [0,0,0],\n",
    "  [1,0,1]\n",
    "]\n",
    "\n",
    "\n",
    "# Example 2:\n",
    "Input: \n",
    "[\n",
    "  [0,1,2,0],\n",
    "  [3,4,5,2],\n",
    "  [1,3,1,5]\n",
    "]\n",
    "Output: \n",
    "[\n",
    "  [0,0,0,0],\n",
    "  [0,4,5,0],\n",
    "  [0,3,1,0]\n",
    "]"
   ]
  },
  {
   "cell_type": "markdown",
   "metadata": {},
   "source": [
    "# My Algorithms"
   ]
  },
  {
   "cell_type": "code",
   "execution_count": null,
   "metadata": {},
   "outputs": [],
   "source": [
    "def setZeroes(matrix: [[int]]) -> None:\n",
    "    zeroRow=set()\n",
    "    zeroCol=set()\n",
    "    \n",
    "    rows = len(matrix)\n",
    "    cols = len(matrix[0])\n",
    "    #Scan zero\n",
    "    for row in range(rows):\n",
    "        for col in range(cols):\n",
    "            if matrix[row][col]==0:\n",
    "                zeroRow.add(row)\n",
    "                zeroCol.add(col)\n",
    "\n",
    "    #Replace zero\n",
    "    for row in range(rows):\n",
    "        for col in range(cols):\n",
    "            if row in zeroRow or col in zeroCol:\n",
    "                matrix[row][col]=0\n",
    "    return"
   ]
  },
  {
   "cell_type": "markdown",
   "metadata": {},
   "source": [
    "# Alternative algorithms"
   ]
  },
  {
   "cell_type": "code",
   "execution_count": null,
   "metadata": {},
   "outputs": [],
   "source": [
    "####################################################\n",
    "###         It's slower than my algorithm       ####\n",
    "####################################################\n",
    "\n",
    "\n",
    "def setZeroes(matrix: [[int]]) -> None:\n",
    "    zeroRow=set()\n",
    "    zeroCol=set()\n",
    "    \n",
    "    rows = len(matrix)\n",
    "    cols = len(matrix[0])\n",
    "    #Scan zero\n",
    "    for row in range(rows):\n",
    "        for col in range(cols):\n",
    "            if matrix[row][col]==0:\n",
    "                zeroRow.add(row)\n",
    "                zeroCol.add(col)\n",
    "\n",
    "    for row in zeroRow:\n",
    "        matrix[row][:] = [0]*cols\n",
    "\n",
    "    for col in zeroCol:\n",
    "        for row in matrix:\n",
    "            row[col] =0"
   ]
  },
  {
   "cell_type": "markdown",
   "metadata": {},
   "source": [
    "# Sample Input and Test"
   ]
  },
  {
   "cell_type": "code",
   "execution_count": null,
   "metadata": {
    "tags": []
   },
   "outputs": [],
   "source": [
    "# Input = [\n",
    "#   [1,1,1],\n",
    "#   [1,0,1],\n",
    "#   [1,1,1]\n",
    "# ]\n",
    "# setZeroes(Input)\n",
    "# printMatrix(Input)\n",
    "\n",
    "\n",
    "Input=[\n",
    "  [0,1,2,0],\n",
    "  [3,4,5,2],\n",
    "  [1,3,1,5]\n",
    "]\n",
    "# Output: \n",
    "# [\n",
    "#   [0,0,0,0],\n",
    "#   [0,4,5,0],\n",
    "#   [0,3,1,0]\n",
    "# ]\n",
    "setZeroes(Input)\n",
    "printMatrix(Input)\n",
    "\n"
   ]
  },
  {
   "cell_type": "code",
   "execution_count": null,
   "metadata": {
    "tags": []
   },
   "outputs": [],
   "source": [
    "Input= [[1,0]]\n",
    "# [[0,0]]\n",
    "setZeroes(Input)\n",
    "printMatrix(Input)\n",
    "\n"
   ]
  },
  {
   "cell_type": "markdown",
   "metadata": {},
   "source": [
    "# Print Matrix"
   ]
  },
  {
   "cell_type": "code",
   "execution_count": null,
   "metadata": {},
   "outputs": [],
   "source": [
    "def printMatrix(matrix):\n",
    "    for vector in matrix:\n",
    "        print(vector)"
   ]
  }
 ],
 "metadata": {
  "kernelspec": {
   "display_name": "Python 3.8.2 64-bit",
   "language": "python",
   "name": "python38264bit579c7998837c475ba0e81c984a932003"
  },
  "language_info": {
   "codemirror_mode": {
    "name": "ipython",
    "version": 3
   },
   "file_extension": ".py",
   "mimetype": "text/x-python",
   "name": "python",
   "nbconvert_exporter": "python",
   "pygments_lexer": "ipython3",
   "version": "3.8.2-final"
  }
 },
 "nbformat": 4,
 "nbformat_minor": 2
}