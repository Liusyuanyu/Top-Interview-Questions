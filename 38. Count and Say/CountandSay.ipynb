{
 "cells": [
  {
   "cell_type": "markdown",
   "metadata": {},
   "source": [
    "# Problem"
   ]
  },
  {
   "cell_type": "code",
   "execution_count": null,
   "metadata": {},
   "outputs": [],
   "source": [
    "The count-and-say sequence is the sequence of integers with the first five terms as following:\n",
    "1.     1\n",
    "2.     11\n",
    "3.     21\n",
    "4.     1211\n",
    "5.     111221\n",
    "\n",
    "1 is read off as \"one 1\" or 11.\n",
    "11 is read off as \"two 1s\" or 21.\n",
    "21 is read off as \"one 2, then one 1\" or 1211.\n",
    "\n",
    "Given an integer n where 1 ≤ n ≤ 30, generate the nth term of the count-and-say sequence. You can do so recursively, in other words from the previous member read off the digits, counting the number of digits in groups of the same digit.\n",
    "\n",
    "Note: Each term of the sequence of integers will be represented as a string."
   ]
  },
  {
   "cell_type": "code",
   "execution_count": null,
   "metadata": {},
   "outputs": [],
   "source": [
    "class Solution:\n",
    "    def countAndSay(self, n: int) -> str:\n",
    "        "
   ]
  },
  {
   "cell_type": "markdown",
   "metadata": {},
   "source": [
    "# Examples"
   ]
  },
  {
   "cell_type": "code",
   "execution_count": null,
   "metadata": {},
   "outputs": [],
   "source": [
    "# Example 1:\n",
    "Input: 1\n",
    "Output: \"1\"\n",
    "Explanation: This is the base case.\n",
    "\n",
    "\n",
    "# Example 2:\n",
    "Input: 4\n",
    "Output: \"1211\"\n",
    "Explanation: For n = 3 the term was \"21\" in which we have two groups \"2\" and \"1\", \"2\" can be read as \"12\" which means frequency = 1 and value = 2, the same way \"1\" is read as \"11\", so the answer is the concatenation of \"12\" and \"11\" which is \"1211\".\n",
    "\n",
    "\n",
    "#  1.     1\n",
    "#  2.     11\n",
    "#  3.     21\n",
    "#  4.     1211\n",
    "#  5.     111221 \n",
    "#  6.     312211\n",
    "#  7.     13112221\n",
    "#  8.     1113213211\n",
    "#  9.     31131211131221\n",
    "# 10.     13211311123113112211"
   ]
  },
  {
   "cell_type": "markdown",
   "metadata": {},
   "source": [
    "# My Algorithms"
   ]
  },
  {
   "cell_type": "code",
   "execution_count": null,
   "metadata": {},
   "outputs": [],
   "source": [
    "def countAndSay(n: 'int') -> str:\n",
    "    def builder(aStr):\n",
    "        length = len(aStr)\n",
    "        start = 0\n",
    "        idx = 1\n",
    "        ans = ''\n",
    "        while(idx < length):\n",
    "            if aStr[idx] != aStr[idx-1]:\n",
    "                ans +=str(idx-start)+aStr[idx-1]\n",
    "                start = idx\n",
    "            idx+=1\n",
    "        ans +=str(idx-start)+aStr[idx-1]\n",
    "        return ans\n",
    "    ans = '1'\n",
    "    for _ in range(1,n):\n",
    "        ans = builder(ans)\n",
    "    return ans\n"
   ]
  },
  {
   "cell_type": "markdown",
   "metadata": {},
   "source": [
    "# Alternative algorithms"
   ]
  },
  {
   "cell_type": "code",
   "execution_count": null,
   "metadata": {},
   "outputs": [],
   "source": [
    "def countAndSay(n: 'int') -> str:\n",
    "    ans = '1'\n",
    "    for _ in range(1,n):\n",
    "        pre = ans\n",
    "        length = len(pre)\n",
    "        start = 0\n",
    "        idx = 1\n",
    "        ans=''\n",
    "        while(idx < length):\n",
    "            if pre[idx] != pre[idx-1]:\n",
    "                ans +=str(idx-start)+pre[idx-1]\n",
    "                start = idx\n",
    "            idx+=1\n",
    "        ans +=str(idx-start)+pre[idx-1]\n",
    "    return ans\n"
   ]
  },
  {
   "cell_type": "markdown",
   "metadata": {},
   "source": [
    "# Sample Input and Test"
   ]
  },
  {
   "cell_type": "code",
   "execution_count": null,
   "metadata": {},
   "outputs": [],
   "source": [
    "# n=1\n",
    "# # Output: \"1\"\n",
    "# countAndSay(n)\n",
    "\n",
    "n=2\n",
    "# Output: \"11\"\n",
    "countAndSay(n)\n",
    "\n",
    "n=3\n",
    "# Output: \"21\"\n",
    "countAndSay(n)\n",
    "\n",
    "n=4\n",
    "# Output: \"1211\"\n",
    "countAndSay(n)\n",
    "\n",
    "n=5\n",
    "# Output: \"111221\"\n",
    "countAndSay(n)\n"
   ]
  },
  {
   "cell_type": "code",
   "execution_count": null,
   "metadata": {},
   "outputs": [],
   "source": [
    "n=6\n",
    "# Output: \"312211\"\n",
    "countAndSay(n)\n"
   ]
  }
 ],
 "metadata": {
  "kernelspec": {
   "display_name": "Python 3.8.2 64-bit",
   "language": "python",
   "name": "python38264bit579c7998837c475ba0e81c984a932003"
  },
  "language_info": {
   "codemirror_mode": {
    "name": "ipython",
    "version": 3
   },
   "file_extension": ".py",
   "mimetype": "text/x-python",
   "name": "python",
   "nbconvert_exporter": "python",
   "pygments_lexer": "ipython3",
   "version": "3.8.2-final"
  }
 },
 "nbformat": 4,
 "nbformat_minor": 2
}