{
 "cells": [
  {
   "cell_type": "markdown",
   "metadata": {},
   "source": [
    "# Problem"
   ]
  },
  {
   "cell_type": "code",
   "execution_count": null,
   "metadata": {},
   "outputs": [],
   "source": [
    "Count the number of prime numbers less than a non-negative number, n."
   ]
  },
  {
   "cell_type": "code",
   "execution_count": null,
   "metadata": {},
   "outputs": [],
   "source": [
    "class Solution:\n",
    "    def countPrimes(self, n: int) -> int:\n",
    "        "
   ]
  },
  {
   "cell_type": "markdown",
   "metadata": {},
   "source": [
    "# Examples"
   ]
  },
  {
   "cell_type": "code",
   "execution_count": null,
   "metadata": {},
   "outputs": [],
   "source": [
    "Input: 10\n",
    "Output: 4\n",
    "Explanation: There are 4 prime numbers less than 10, they are 2, 3, 5, 7."
   ]
  },
  {
   "cell_type": "markdown",
   "metadata": {},
   "source": [
    "# My Algorithms"
   ]
  },
  {
   "cell_type": "code",
   "execution_count": null,
   "metadata": {},
   "outputs": [],
   "source": [
    "###################################\n",
    "###     Time Limit Exceeded     ###\n",
    "###################################\n",
    "\n",
    "def countPrimes(n: int) -> int:\n",
    "    count = 1 if n>2 else 0\n",
    "    def isPrime(num):\n",
    "        if num <=2:return False\n",
    "        end= int(num**(1/2))+1\n",
    "        for divisor in range(2,end):\n",
    "            if not num%divisor: return False\n",
    "        return True\n",
    "    for num in range(1,n,2):\n",
    "        if num!=1:\n",
    "            if isPrime(num):\n",
    "                count+=1\n",
    "    return count"
   ]
  },
  {
   "cell_type": "markdown",
   "metadata": {},
   "source": [
    "# Alternative algorithms"
   ]
  },
  {
   "cell_type": "code",
   "execution_count": null,
   "metadata": {},
   "outputs": [],
   "source": [
    "def countPrimes(n: int) -> int:\n",
    "    if n <3 : return 0\n",
    "    nums = [True]*(n+1)\n",
    "    nums[0]=False\n",
    "    nums[1]=False\n",
    "    count = 0\n",
    "\n",
    "    for idx in range(2,n):\n",
    "        if nums[idx]:\n",
    "            count+=1\n",
    "            for nIdx in range(idx*2, n, idx):\n",
    "                nums[nIdx]=False\n",
    "    return count\n"
   ]
  },
  {
   "cell_type": "code",
   "execution_count": null,
   "metadata": {},
   "outputs": [],
   "source": [
    "def countPrimes(n: int) -> int:\n",
    "    if n <3 : return 0\n",
    "    primes = [True]*(n+1)\n",
    "    primes[0]=False\n",
    "    primes[1]=False\n",
    "    for num in range(2, int(sqrt(n))+1):\n",
    "        if primes[num]:\n",
    "            for multiple in range(num*2, n, num):\n",
    "                primes[multiple]=False\n",
    "    return sum(primes)-1\n",
    "    # return sum(primes[:-1])\n",
    "\n"
   ]
  },
  {
   "cell_type": "code",
   "execution_count": null,
   "metadata": {
    "tags": []
   },
   "outputs": [],
   "source": [
    "###################################\n",
    "###     Do not understand       ###\n",
    "###################################\n",
    "\n",
    "def countPrimes(n: int) -> int:\n",
    "    n -= 1\n",
    "    if n < 2:\n",
    "        return 0\n",
    "    r = int(n ** 0.5)\n",
    "    V = [n//d for d in range(1, r + 1)]\n",
    "    print(r)\n",
    "    print(V)\n",
    "    V += list(range(V[-1] - 1, 0, -1))\n",
    "    print(V)\n",
    "        \n",
    "    S = {v: v - 1 for v in V}\n",
    "    #print(S)\n",
    "    for p in range(2, r + 1):\n",
    "        if S[p] == S[p - 1]:\n",
    "            continue\n",
    "        p2 = p * p\n",
    "        sp_1 = S[p - 1]\n",
    "        for v in V:\n",
    "            if v < p2:\n",
    "                break\n",
    "            S[v] -= S[v//p] - sp_1\n",
    "    # print(V)\n",
    "    print(S)\n",
    "    return S[n]"
   ]
  },
  {
   "cell_type": "markdown",
   "metadata": {},
   "source": [
    "# Sample Input and Test"
   ]
  },
  {
   "cell_type": "code",
   "execution_count": null,
   "metadata": {
    "tags": []
   },
   "outputs": [],
   "source": [
    "countPrimes(4)\n",
    "# 2\n",
    "\n",
    "countPrimes(10)\n",
    "# 4\n",
    "\n",
    "countPrimes(2)\n",
    "# # 0\n",
    "\n",
    "countPrimes(1500000)\n",
    "# 114155\n",
    "\n"
   ]
  }
 ],
 "metadata": {
  "kernelspec": {
   "display_name": "Python 3.8.2 64-bit",
   "language": "python",
   "name": "python38264bit579c7998837c475ba0e81c984a932003"
  },
  "language_info": {
   "codemirror_mode": {
    "name": "ipython",
    "version": 3
   },
   "file_extension": ".py",
   "mimetype": "text/x-python",
   "name": "python",
   "nbconvert_exporter": "python",
   "pygments_lexer": "ipython3",
   "version": "3.8.2-final"
  }
 },
 "nbformat": 4,
 "nbformat_minor": 2
}