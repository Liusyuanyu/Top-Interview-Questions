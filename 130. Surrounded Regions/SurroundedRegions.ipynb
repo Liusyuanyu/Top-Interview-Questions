{
 "cells": [
  {
   "cell_type": "markdown",
   "metadata": {},
   "source": [
    "# Problem"
   ]
  },
  {
   "cell_type": "code",
   "execution_count": null,
   "metadata": {},
   "outputs": [],
   "source": [
    "Given a 2D board containing 'X' and 'O' (the letter O), capture all regions surrounded by 'X'.\n",
    "A region is captured by flipping all 'O's into 'X's in that surrounded region."
   ]
  },
  {
   "cell_type": "code",
   "execution_count": null,
   "metadata": {},
   "outputs": [],
   "source": [
    "class Solution:\n",
    "    def solve(self, board: List[List[str]]) -> None:\n",
    "        \"\"\"\n",
    "        Do not return anything, modify board in-place instead.\n",
    "        \"\"\"\n",
    "        "
   ]
  },
  {
   "cell_type": "markdown",
   "metadata": {},
   "source": [
    "# Examples"
   ]
  },
  {
   "cell_type": "code",
   "execution_count": null,
   "metadata": {},
   "outputs": [],
   "source": [
    "# Example:\n",
    "    X X X X\n",
    "    X O O X\n",
    "    X X O X\n",
    "    X O X X\n",
    "\n",
    "After running your function, the board should be:\n",
    "    X X X X\n",
    "    X X X X\n",
    "    X X X X\n",
    "    X O X X\n",
    "\n",
    "# Explanation:\n",
    "Surrounded regions shouldn’t be on the border, which means that any 'O' on the border of the board are not flipped to 'X'. Any 'O' that is not on the border and it is not connected to an 'O' on the border will be flipped to 'X'. Two cells are connected if they are adjacent cells connected horizontally or vertically."
   ]
  },
  {
   "cell_type": "markdown",
   "metadata": {},
   "source": [
    "# My Algorithms"
   ]
  },
  {
   "cell_type": "code",
   "execution_count": null,
   "metadata": {},
   "outputs": [],
   "source": [
    "from copy import deepcopy\n",
    "\n",
    "def solve(board: [[str]]) -> int:\n",
    "    if not board:\n",
    "        return\n",
    "\n",
    "    direction=[(0,1),(1,0),(0,-1),(-1,0)]\n",
    "    nonflip = set()\n",
    "    def dfs(row, col):\n",
    "        grid[row][col]='X'\n",
    "        for dir in direction:\n",
    "            new_r = row+dir[0]\n",
    "            new_c = col+dir[1]\n",
    "            if new_r >= rows-1 or new_c >=cols-1 or new_r < 1 or new_c < 1:\n",
    "                pass\n",
    "            else:\n",
    "                if grid[new_r][new_c]=='O':\n",
    "                    nonflip.add((new_r,new_c))\n",
    "                    dfs(new_r, new_c)\n",
    "    rows = len(board)\n",
    "    cols = len(board[0])\n",
    "    grid = deepcopy(board)\n",
    "    for row in range(rows):\n",
    "        if grid[row][0]=='O':\n",
    "            dfs(row, 0)\n",
    "        if cols-1>0 and grid[row][cols-1]=='O':\n",
    "            dfs(row, cols-1)\n",
    "    for col in range(1,cols-1):\n",
    "        if grid[0][col]=='O':\n",
    "            dfs(0, col)\n",
    "        if rows-1>0 and grid[rows-1][col]=='O':\n",
    "            dfs(rows-1, col)\n",
    "            \n",
    "    for row in range(1,rows-1):\n",
    "        for col in range(1,cols-1):\n",
    "            if (row,col) not in nonflip:\n",
    "                board[row][col]='X'\n",
    "    return"
   ]
  },
  {
   "cell_type": "code",
   "execution_count": null,
   "metadata": {},
   "outputs": [],
   "source": [
    "def solve(board: [[str]]) -> int:\n",
    "    if not board:\n",
    "        return\n",
    "    direction=[(0,1),(1,0),(0,-1),(-1,0)]\n",
    "    nonflip = set()\n",
    "    def dfs(row, col):\n",
    "        board[row][col]='X'\n",
    "        nonflip.add((row,col))\n",
    "        for dir in direction:\n",
    "            new_r = row+dir[0]\n",
    "            new_c = col+dir[1]\n",
    "            if new_r >= rows-1 or new_c >=cols-1 or new_r < 1 or new_c < 1:\n",
    "                pass\n",
    "            else:\n",
    "                if board[new_r][new_c]=='O':\n",
    "                    dfs(new_r, new_c)\n",
    "    rows = len(board)\n",
    "    cols = len(board[0])\n",
    "    for row in range(rows):\n",
    "        if board[row][0]=='O':\n",
    "            dfs(row, 0)\n",
    "        if cols-1>0 and board[row][cols-1]=='O':\n",
    "            dfs(row, cols-1)\n",
    "    for col in range(1,cols-1):\n",
    "        if board[0][col]=='O':\n",
    "            dfs(0, col)\n",
    "        if rows-1>0 and board[rows-1][col]=='O':\n",
    "            dfs(rows-1, col)\n",
    "\n",
    "    board[:] = [['X']*cols for _ in range(rows)]\n",
    "\n",
    "    for rowCol in nonflip:\n",
    "        board[rowCol[0]][rowCol[1]]='O'"
   ]
  },
  {
   "cell_type": "markdown",
   "metadata": {},
   "source": [
    "# Alternative algorithms"
   ]
  },
  {
   "cell_type": "code",
   "execution_count": null,
   "metadata": {},
   "outputs": [],
   "source": []
  },
  {
   "cell_type": "markdown",
   "metadata": {},
   "source": [
    "# Sample Input and Test"
   ]
  },
  {
   "cell_type": "code",
   "execution_count": null,
   "metadata": {
    "tags": []
   },
   "outputs": [],
   "source": [
    "aboard=[\n",
    "    ['X', 'X', 'X','X'],\n",
    "    ['X', 'O', 'O','X'],\n",
    "    ['X', 'X', 'O','X'],\n",
    "    ['X', 'O', 'X','X'],\n",
    "]\n",
    "# After running your function, the board should be:\n",
    "    # X X X X\n",
    "    # X X X X\n",
    "    # X X X X\n",
    "    # X O X X\n",
    "\n",
    "print('Before')\n",
    "printMat(aboard)\n",
    "\n",
    "print('\\nAfter')\n",
    "solve(aboard)\n",
    "printMat(aboard)"
   ]
  },
  {
   "cell_type": "code",
   "execution_count": null,
   "metadata": {
    "tags": []
   },
   "outputs": [],
   "source": [
    "aboard=[\n",
    "    ['X','O'],\n",
    "]\n",
    "print('Before')\n",
    "printMat(aboard)\n",
    "\n",
    "print('\\nAfter')\n",
    "solve(aboard)\n",
    "printMat(aboard)"
   ]
  },
  {
   "cell_type": "code",
   "execution_count": null,
   "metadata": {
    "tags": []
   },
   "outputs": [],
   "source": [
    "aboard=[\n",
    "    ['X','X', 'X'],\n",
    "    ['X','O', 'O'],\n",
    "    ['X','X', 'X'],\n",
    "]\n",
    "print('Before')\n",
    "printMat(aboard)\n",
    "\n",
    "print('\\nAfter')\n",
    "solve(aboard)\n",
    "printMat(aboard)"
   ]
  },
  {
   "cell_type": "markdown",
   "metadata": {},
   "source": [
    "# Print Matrix"
   ]
  },
  {
   "cell_type": "code",
   "execution_count": null,
   "metadata": {},
   "outputs": [],
   "source": [
    "def printMat(mat):\n",
    "    for vector in mat:\n",
    "        print(vector)"
   ]
  }
 ],
 "metadata": {
  "kernelspec": {
   "display_name": "Python 3.8.2 64-bit",
   "language": "python",
   "name": "python38264bit579c7998837c475ba0e81c984a932003"
  },
  "language_info": {
   "codemirror_mode": {
    "name": "ipython",
    "version": 3
   },
   "file_extension": ".py",
   "mimetype": "text/x-python",
   "name": "python",
   "nbconvert_exporter": "python",
   "pygments_lexer": "ipython3",
   "version": "3.8.2-final"
  }
 },
 "nbformat": 4,
 "nbformat_minor": 2
}