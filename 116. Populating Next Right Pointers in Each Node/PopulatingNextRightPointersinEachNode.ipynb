{
 "cells": [
  {
   "cell_type": "markdown",
   "metadata": {},
   "source": [
    "# Problem"
   ]
  },
  {
   "cell_type": "code",
   "execution_count": null,
   "metadata": {},
   "outputs": [],
   "source": [
    "You are given a perfect binary tree where all leaves are on the same level, and every parent has two children. The binary tree has the following definition:\n",
    "struct Node {\n",
    "  int val;\n",
    "  Node *left;\n",
    "  Node *right;\n",
    "  Node *next;\n",
    "}\n",
    "Populate each next pointer to point to its next right node. If there is no next right node, the next pointer should be set to NULL.\n",
    "Initially, all next pointers are set to NULL.\n",
    "\n",
    "\n",
    "# Follow up:\n",
    "    *You may only use constant extra space.\n",
    "    *Recursive approach is fine, you may assume implicit stack space does not count as extra space for this problem."
   ]
  },
  {
   "cell_type": "code",
   "execution_count": null,
   "metadata": {},
   "outputs": [],
   "source": [
    "\"\"\"\n",
    "# Definition for a Node.\n",
    "class Node:\n",
    "    def __init__(self, val: int = 0, left: 'Node' = None, right: 'Node' = None, next: 'Node' = None):\n",
    "        self.val = val\n",
    "        self.left = left\n",
    "        self.right = right\n",
    "        self.next = next\n",
    "\"\"\"\n",
    "\n",
    "class Solution:\n",
    "    def connect(self, root: 'Node') -> 'Node':\n",
    "        "
   ]
  },
  {
   "cell_type": "markdown",
   "metadata": {},
   "source": [
    "# Examples"
   ]
  },
  {
   "cell_type": "code",
   "execution_count": null,
   "metadata": {},
   "outputs": [],
   "source": [
    "Input: root = [1,2,3,4,5,6,7]\n",
    "Output: [1,#,2,3,#,4,5,6,7,#]\n",
    "Explanation: Given the above perfect binary tree (Figure A), your function should populate each next pointer to point to its next right node, just like in Figure B. The serialized output is in level order as connected by the next pointers, with '#' signifying the end of each level."
   ]
  },
  {
   "cell_type": "code",
   "execution_count": null,
   "metadata": {},
   "outputs": [],
   "source": [
    "class Node:\n",
    "    def __init__(self, val: int = 0, left: 'Node' = None, right: 'Node' = None, next: 'Node' = None):\n",
    "        self.val = val\n",
    "        self.left = left\n",
    "        self.right = right\n",
    "        self.next = next"
   ]
  },
  {
   "cell_type": "markdown",
   "metadata": {},
   "source": [
    "# My Algorithms"
   ]
  },
  {
   "cell_type": "code",
   "execution_count": 58,
   "metadata": {},
   "outputs": [],
   "source": [
    "def connect(root: 'Node') -> 'Node':\n",
    "    if not root:\n",
    "        return None\n",
    "    levelQueue=[root]\n",
    "    while(levelQueue):\n",
    "        leaves = len(levelQueue)\n",
    "        for idx in range(leaves):\n",
    "            aNode = levelQueue.pop(0)\n",
    "            if idx<leaves-1:\n",
    "                aNode.next = levelQueue[0]\n",
    "            if aNode.left:\n",
    "                levelQueue.append(aNode.left)\n",
    "            if aNode.right:\n",
    "                levelQueue.append(aNode.right)\n",
    "    return root    \n"
   ]
  },
  {
   "cell_type": "markdown",
   "metadata": {},
   "source": [
    "# Alternative algorithms"
   ]
  },
  {
   "cell_type": "code",
   "execution_count": 60,
   "metadata": {},
   "outputs": [],
   "source": [
    "def connect(root: 'Node') -> 'Node':\n",
    "    if not root:\n",
    "        return None\n",
    "    levelQueue=[root]\n",
    "    while(levelQueue):\n",
    "        preNode =None\n",
    "        for idx in range(len(levelQueue)):\n",
    "            aNode = levelQueue.pop(0)\n",
    "            if aNode.left:\n",
    "                levelQueue.append(aNode.left)\n",
    "            if aNode.right:\n",
    "                levelQueue.append(aNode.right)\n",
    "            if preNode:\n",
    "                preNode.next=aNode\n",
    "            preNode=aNode\n",
    "    return root    \n"
   ]
  },
  {
   "cell_type": "markdown",
   "metadata": {},
   "source": [
    "# Sample Input and Test"
   ]
  },
  {
   "cell_type": "code",
   "execution_count": 61,
   "metadata": {
    "tags": []
   },
   "outputs": [
    {
     "output_type": "stream",
     "name": "stdout",
     "text": "1 2 3 4 5 6 7 \n[[1], [2, 3], [4, 5, 6, 7]]\n\n1 # 2 3 # 4 5 6 7 # \n"
    }
   ],
   "source": [
    "# Input: root = [1,2,3,4,5,6,7]\n",
    "# Output:       [1,#,2,3,#,4,5,6,7,#]\n",
    "\n",
    "root = Node(1)\n",
    "root.left = Node(2)\n",
    "root.right = Node(3)\n",
    "root.left.left = Node(4)\n",
    "root.left.right = Node(5)\n",
    "root.right.left = Node(6)\n",
    "root.right.right = Node(7)\n",
    "printLevelOrder(root)\n",
    "level = levelOrder(root)\n",
    "print(level)\n",
    "\n",
    "ans = connect(root)\n",
    "print()\n",
    "printNext(ans)\n",
    "\n",
    "\n"
   ]
  },
  {
   "cell_type": "markdown",
   "metadata": {},
   "source": [
    "# Print next"
   ]
  },
  {
   "cell_type": "code",
   "execution_count": 44,
   "metadata": {},
   "outputs": [],
   "source": [
    "def printNext(node):\n",
    "    nextNode=None\n",
    "\n",
    "    while(node):\n",
    "        nextNode=node\n",
    "        while(nextNode):\n",
    "            print(nextNode.val, end=' ')\n",
    "            # print(nextNode.val)\n",
    "            nextNode=nextNode.next\n",
    "        print('#', end = ' ')\n",
    "        node=node.left\n",
    "    print()\n",
    "    "
   ]
  },
  {
   "cell_type": "markdown",
   "metadata": {},
   "source": [
    "# Print Tree"
   ]
  },
  {
   "cell_type": "code",
   "execution_count": null,
   "metadata": {
    "tags": []
   },
   "outputs": [],
   "source": [
    "def levelOrder(root: 'Node') -> [[int]]:\n",
    "    res=[]\n",
    "    def preOrderTraversal(node, level):\n",
    "        if not node:\n",
    "            return\n",
    "        if len(res) < level:\n",
    "            res.append([])\n",
    "        res[level-1].append(node.val)\n",
    "        preOrderTraversal(node.left, level+1)\n",
    "        preOrderTraversal(node.right, level+1)\n",
    "    if not root:\n",
    "        return []\n",
    "    preOrderTraversal(root, 1)\n",
    "    return res    \n"
   ]
  },
  {
   "cell_type": "code",
   "execution_count": null,
   "metadata": {},
   "outputs": [],
   "source": [
    "# Function to  print level order traversal of tree \n",
    "def printLevelOrder(root): \n",
    "    h = height(root) \n",
    "    for i in range(1, h+1): \n",
    "        printGivenLevel(root, i)\n",
    "    print()\n",
    "  \n",
    "# Print nodes at a given level \n",
    "def printGivenLevel(root , level): \n",
    "    if root is None:\n",
    "        print('Null', end=\" \")\n",
    "        return\n",
    "    if level == 1: \n",
    "        print (\"%d\" %(root.val), end=\" \") \n",
    "    elif level > 1 : \n",
    "        printGivenLevel(root.left , level-1) \n",
    "        printGivenLevel(root.right , level-1) \n",
    "    \n",
    "\n",
    "def height(node): \n",
    "    if node is None: \n",
    "        return 0 \n",
    "    else : \n",
    "        # Compute the height of each subtree  \n",
    "        lheight = height(node.left) \n",
    "        rheight = height(node.right) \n",
    "  \n",
    "        #Use the larger one \n",
    "        if lheight > rheight : \n",
    "            return lheight+1\n",
    "        else: \n",
    "            return rheight+1"
   ]
  }
 ],
 "metadata": {
  "kernelspec": {
   "display_name": "Python 3.8.2 64-bit",
   "language": "python",
   "name": "python38264bit579c7998837c475ba0e81c984a932003"
  },
  "language_info": {
   "codemirror_mode": {
    "name": "ipython",
    "version": 3
   },
   "file_extension": ".py",
   "mimetype": "text/x-python",
   "name": "python",
   "nbconvert_exporter": "python",
   "pygments_lexer": "ipython3",
   "version": "3.8.2-final"
  }
 },
 "nbformat": 4,
 "nbformat_minor": 2
}