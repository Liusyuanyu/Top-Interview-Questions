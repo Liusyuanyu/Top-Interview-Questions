{
 "cells": [
  {
   "cell_type": "markdown",
   "metadata": {},
   "source": [
    "# Problem"
   ]
  },
  {
   "cell_type": "code",
   "execution_count": null,
   "metadata": {},
   "outputs": [],
   "source": [
    "Given two words (beginWord and endWord), and a dictionary's word list, find the length of shortest transformation sequence from beginWord to endWord, such that:\n",
    "1. Only one letter can be changed at a time.\n",
    "2. Each transformed word must exist in the word list.\n",
    "\n",
    "# Note:\n",
    "Return 0 if there is no such transformation sequence.\n",
    "All words have the same length.\n",
    "All words contain only lowercase alphabetic characters.\n",
    "You may assume no duplicates in the word list.\n",
    "You may assume beginWord and endWord are non-empty and are not the same."
   ]
  },
  {
   "cell_type": "code",
   "execution_count": null,
   "metadata": {},
   "outputs": [],
   "source": [
    "class Solution:\n",
    "    def ladderLength(self, beginWord: str, endWord: str, wordList: List[str]) -> int:\n",
    "        "
   ]
  },
  {
   "cell_type": "markdown",
   "metadata": {},
   "source": [
    "# Examples"
   ]
  },
  {
   "cell_type": "code",
   "execution_count": null,
   "metadata": {},
   "outputs": [],
   "source": [
    "# Example 1:\n",
    "Input:\n",
    "beginWord = \"hit\",\n",
    "endWord = \"cog\",\n",
    "wordList = [\"hot\",\"dot\",\"dog\",\"lot\",\"log\",\"cog\"]\n",
    "\n",
    "Output: 5\n",
    "\n",
    "Explanation: As one shortest transformation is \"hit\" -> \"hot\" -> \"dot\" -> \"dog\" -> \"cog\",\n",
    "return its length 5.\n",
    "\n",
    "\n",
    "# Example 2:\n",
    "Input:\n",
    "beginWord = \"hit\"\n",
    "endWord = \"cog\"\n",
    "wordList = [\"hot\",\"dot\",\"dog\",\"lot\",\"log\"]\n",
    "\n",
    "Output: 0\n",
    "\n",
    "Explanation: The endWord \"cog\" is not in wordList, therefore no possible transformation."
   ]
  },
  {
   "cell_type": "markdown",
   "metadata": {},
   "source": [
    "# My Algorithms"
   ]
  },
  {
   "cell_type": "code",
   "execution_count": null,
   "metadata": {},
   "outputs": [],
   "source": [
    "###################################\n",
    "###     Time Limit Exceeded     ###\n",
    "###################################\n",
    "\n",
    "def ladderLength(beginWord: str, endWord: str, wordList: [str]) -> int:\n",
    "    length = len(beginWord)\n",
    "    words=[beginWord]\n",
    "    wordSet =set(wordList)\n",
    "    step=0\n",
    "    while(words):\n",
    "        step +=1\n",
    "        for _ in range(len(words)):\n",
    "            word = words.pop(0)\n",
    "            newWords= set()\n",
    "            for idx in range(length):\n",
    "                fixWord =word[:idx]+word[idx+1:]\n",
    "                for aword in wordSet:\n",
    "                    if fixWord == aword[:idx]+aword[idx+1:]:\n",
    "                        newWords.add(aword)\n",
    "            for aword in newWords:\n",
    "                wordSet.remove(aword)\n",
    "            if endWord in newWords:\n",
    "                return step+1\n",
    "            words+=newWords\n",
    "    return 0\n",
    "\n"
   ]
  },
  {
   "cell_type": "code",
   "execution_count": null,
   "metadata": {},
   "outputs": [],
   "source": []
  },
  {
   "cell_type": "markdown",
   "metadata": {},
   "source": [
    "# Alternative algorithms"
   ]
  },
  {
   "cell_type": "code",
   "execution_count": null,
   "metadata": {},
   "outputs": [],
   "source": [
    "###################################\n",
    "###              Slow           ###\n",
    "###################################\n",
    "\n",
    "import collections\n",
    "\n",
    "def ladderLength(beginWord: str, endWord: str, wordList: [str]) -> int:\n",
    "    wordset = set(wordList)\n",
    "    queue = []\n",
    "    queue.append((beginWord, 1))\n",
    "    word_length = len(beginWord)\n",
    "    while queue:\n",
    "        word, step = queue.pop(0)\n",
    "        if word == endWord:\n",
    "            return step\n",
    "        for i in range(word_length):\n",
    "            for c in \"abcdefghijklmnopqrstuvwxyz\":\n",
    "                newWord = word[:i]+c+word[i+1:]\n",
    "                if newWord in wordset:\n",
    "                    wordset.remove(newWord)\n",
    "                    queue.append((newWord, step+1))\n",
    "    return 0"
   ]
  },
  {
   "cell_type": "code",
   "execution_count": null,
   "metadata": {
    "tags": []
   },
   "outputs": [],
   "source": [
    "###################################\n",
    "###         bidirectional       ###\n",
    "###################################\n",
    "\n",
    "import collections\n",
    "\n",
    "def ladderLength(beginWord: str, endWord: str, wordList: [str]) -> int:\n",
    "    wordset = set(wordList)\n",
    "    if endWord not in wordset:\n",
    "        return 0\n",
    "    startQueue = [endWord]\n",
    "    endQueue = [beginWord]\n",
    "\n",
    "    wordset.remove(endWord)\n",
    "    word_length = len(beginWord)\n",
    "    step=0\n",
    "    while startQueue and endQueue:\n",
    "        step+=1\n",
    "        if len(startQueue) > len(endQueue):\n",
    "            startQueue, endQueue = endQueue, startQueue\n",
    "        for _ in range(len(startQueue)):\n",
    "            word = startQueue.pop(0)\n",
    "            for idx in range(word_length):\n",
    "                newWords =[word[:idx]+char+word[idx+1:] for char in string.ascii_lowercase] \n",
    "                for newWord in newWords:\n",
    "                    if newWord in endQueue:\n",
    "                        return step+1\n",
    "                    if newWord in wordset:\n",
    "                        wordset.remove(newWord)\n",
    "                        startQueue.append(newWord)\n",
    "    return 0"
   ]
  },
  {
   "cell_type": "code",
   "execution_count": null,
   "metadata": {},
   "outputs": [],
   "source": [
    "# ###################################\n",
    "# ###         bidirectional       ###\n",
    "# ###################################\n",
    "\n",
    "# import collections\n",
    "\n",
    "# def ladderLength(beginWord: str, endWord: str, wordList: [str]) -> int:\n",
    "#     if endWord not in wordList or not endWord or not beginWord or not wordList:\n",
    "#         return 0\n",
    "#     l = len(beginWord)\n",
    "#     d = collections.defaultdict(list)\n",
    "#     d = {}\n",
    "#     for word in wordList:\n",
    "#         for i in range(l):\n",
    "#             d[word[:i] + \"*\" + word[i+1:]].append(word)\n",
    "#     q = deque([(beginWord, 1)])\n",
    "#     visited = set(beginWord)\n",
    "#     while q:\n",
    "#         cur, level = q.popleft()\n",
    "#         for i in range(l):\n",
    "#             temp = cur[:i] + \"*\" + cur[i+1:]\n",
    "#             for word in d[temp]:\n",
    "#                 if word == endWord:\n",
    "#                     return level + 1\n",
    "#                 if word not in visited:\n",
    "#                     visited.add(word)\n",
    "#                     q.append((word, level+1))\n",
    "#             d[temp] = []\n",
    "#     return 0\n"
   ]
  },
  {
   "cell_type": "markdown",
   "metadata": {},
   "source": [
    "# Sample Input and Test"
   ]
  },
  {
   "cell_type": "code",
   "execution_count": null,
   "metadata": {
    "tags": []
   },
   "outputs": [],
   "source": [
    "beginWord = \"hit\"\n",
    "endWord = \"cog\"\n",
    "wordList = [\"hot\",\"dot\",\"dog\",\"lot\",\"log\",\"cog\"]\n",
    "# Output: 5\n",
    "ladderLength(beginWord, endWord, wordList)\n"
   ]
  },
  {
   "cell_type": "code",
   "execution_count": null,
   "metadata": {},
   "outputs": [],
   "source": [
    "beginWord = \"hit\"\n",
    "endWord = \"cog\"\n",
    "wordList = [\"hot\",\"dot\",\"dog\",\"lot\",\"log\"]\n",
    "# Output: 0\n",
    "ladderLength(beginWord, endWord, wordList)\n"
   ]
  },
  {
   "cell_type": "code",
   "execution_count": null,
   "metadata": {
    "tags": []
   },
   "outputs": [],
   "source": [
    "beginWord = \"hit\"\n",
    "endWord = \"dog\"\n",
    "wordList = [\"hot\",\"dog\"]\n",
    "# Output: 0\n",
    "ladderLength(beginWord, endWord, wordList)\n"
   ]
  },
  {
   "cell_type": "code",
   "execution_count": null,
   "metadata": {},
   "outputs": [],
   "source": [
    "beginWord = \"a\"\n",
    "endWord = \"c\"\n",
    "wordList = [\"a\",\"b\",'c']\n",
    "# Output: 1\n",
    "ladderLength(beginWord, endWord, wordList)\n"
   ]
  },
  {
   "cell_type": "code",
   "execution_count": null,
   "metadata": {},
   "outputs": [],
   "source": [
    "beginWord = \"hit\"\n",
    "endWord = \"cog\"\n",
    "wordList = [\"hot\",\"cog\",\"dot\",\"dog\",\"hit\",\"lot\",\"log\"]\n",
    "# Output: 5\n",
    "ladderLength(beginWord, endWord, wordList)\n"
   ]
  }
 ],
 "metadata": {
  "kernelspec": {
   "display_name": "Python 3.8.2 64-bit",
   "language": "python",
   "name": "python38264bit579c7998837c475ba0e81c984a932003"
  },
  "language_info": {
   "codemirror_mode": {
    "name": "ipython",
    "version": 3
   },
   "file_extension": ".py",
   "mimetype": "text/x-python",
   "name": "python",
   "nbconvert_exporter": "python",
   "pygments_lexer": "ipython3",
   "version": "3.8.2-final"
  }
 },
 "nbformat": 4,
 "nbformat_minor": 2
}