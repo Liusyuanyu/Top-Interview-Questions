{
 "cells": [
  {
   "cell_type": "markdown",
   "metadata": {},
   "source": [
    "# Problem"
   ]
  },
  {
   "cell_type": "code",
   "execution_count": null,
   "metadata": {},
   "outputs": [],
   "source": [
    "Given two integers dividend and divisor, divide two integers without using multiplication, division and mod operator.\n",
    "Return the quotient after dividing dividend by divisor.\n",
    "The integer division should truncate toward zero, which means losing its fractional part. For example, truncate(8.345) = 8 and truncate(-2.7335) = -2.\n",
    "\n",
    "\n",
    "# Note:\n",
    "Both dividend and divisor will be 32-bit signed integers.\n",
    "The divisor will never be 0.\n",
    "Assume we are dealing with an environment which could only store integers within the 32-bit signed integer range: [−2**31,  2**31 − 1]. For the purpose of this problem, assume that your function returns 2**31 − 1 when the division result overflows."
   ]
  },
  {
   "cell_type": "code",
   "execution_count": null,
   "metadata": {},
   "outputs": [],
   "source": [
    "class Solution:\n",
    "    def divide(self, dividend: int, divisor: int) -> int:\n",
    "        "
   ]
  },
  {
   "cell_type": "markdown",
   "metadata": {},
   "source": [
    "# Examples"
   ]
  },
  {
   "cell_type": "code",
   "execution_count": null,
   "metadata": {},
   "outputs": [],
   "source": [
    "# Example 1:\n",
    "Input: dividend = 10, divisor = 3\n",
    "Output: 3\n",
    "Explanation: 10/3 = truncate(3.33333..) = 3.\n",
    "\n",
    "\n",
    "# Example 2:\n",
    "Input: dividend = 7, divisor = -3\n",
    "Output: -2\n",
    "Explanation: 7/-3 = truncate(-2.33333..) = -2"
   ]
  },
  {
   "cell_type": "markdown",
   "metadata": {},
   "source": [
    "# My Algorithms"
   ]
  },
  {
   "cell_type": "code",
   "execution_count": 35,
   "metadata": {},
   "outputs": [],
   "source": [
    "def divide(dividend: int, divisor: int) -> int:\n",
    "    if (dividend==-2**31 and divisor==-1):\n",
    "        return 2**31-1\n",
    "    ans = 0\n",
    "    sign = 1 if (dividend>0 and divisor>0) or (dividend<0 and divisor<0) else -1 \n",
    "    dividend=abs(dividend)\n",
    "    divisor=abs(divisor)\n",
    "    while(dividend >= divisor):\n",
    "        times=0\n",
    "        while(dividend>divisor<<1<<times):\n",
    "            times+=1\n",
    "        ans+=1<<times\n",
    "        dividend -= divisor<<times\n",
    "    return ans*sign"
   ]
  },
  {
   "cell_type": "code",
   "execution_count": 51,
   "metadata": {},
   "outputs": [],
   "source": [
    "def divide(dividend: int, divisor: int) -> int:\n",
    "    ans = 0\n",
    "    dEnd=abs(dividend)\n",
    "    div=abs(divisor)\n",
    "    sign = (dividend < 0) == (divisor < 0)\n",
    "    while(dEnd >= div):\n",
    "        times=1\n",
    "        curNum=div \n",
    "        while(dEnd >= curNum):\n",
    "            dEnd -= curNum\n",
    "            ans+=1<<times\n",
    "            curNum <<=1\n",
    "            times+=1\n",
    "    return min(ans*sign, 2**31-1)"
   ]
  },
  {
   "cell_type": "markdown",
   "metadata": {},
   "source": [
    "# Alternative algorithms"
   ]
  },
  {
   "cell_type": "code",
   "execution_count": null,
   "metadata": {},
   "outputs": [],
   "source": []
  },
  {
   "cell_type": "markdown",
   "metadata": {},
   "source": [
    "# Sample Input and Test"
   ]
  },
  {
   "cell_type": "code",
   "execution_count": 52,
   "metadata": {
    "tags": []
   },
   "outputs": [
    {
     "output_type": "execute_result",
     "data": {
      "text/plain": "3"
     },
     "metadata": {},
     "execution_count": 52
    }
   ],
   "source": [
    "# dividend = 7\n",
    "# divisor = -3\n",
    "# # Output: -2\n",
    "# divide(dividend, divisor)\n",
    "\n",
    "dividend = 10\n",
    "divisor = 3\n",
    "# Output: 3\n",
    "divide(dividend, divisor)\n"
   ]
  },
  {
   "cell_type": "code",
   "execution_count": 53,
   "metadata": {},
   "outputs": [
    {
     "output_type": "execute_result",
     "data": {
      "text/plain": "2147483647"
     },
     "metadata": {},
     "execution_count": 53
    }
   ],
   "source": [
    "dividend = 2**31-1\n",
    "divisor = 1\n",
    "# Output: 2147483647\n",
    "divide(dividend, divisor)"
   ]
  }
 ],
 "metadata": {
  "kernelspec": {
   "display_name": "Python 3.8.2 64-bit",
   "language": "python",
   "name": "python38264bit579c7998837c475ba0e81c984a932003"
  },
  "language_info": {
   "codemirror_mode": {
    "name": "ipython",
    "version": 3
   },
   "file_extension": ".py",
   "mimetype": "text/x-python",
   "name": "python",
   "nbconvert_exporter": "python",
   "pygments_lexer": "ipython3",
   "version": "3.8.2-final"
  }
 },
 "nbformat": 4,
 "nbformat_minor": 2
}