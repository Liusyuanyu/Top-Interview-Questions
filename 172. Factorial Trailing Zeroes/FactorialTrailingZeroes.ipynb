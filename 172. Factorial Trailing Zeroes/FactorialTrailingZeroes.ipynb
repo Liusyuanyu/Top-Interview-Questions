{
 "cells": [
  {
   "cell_type": "markdown",
   "metadata": {},
   "source": [
    "# Problem"
   ]
  },
  {
   "cell_type": "code",
   "execution_count": null,
   "metadata": {},
   "outputs": [],
   "source": [
    "Given an integer n, return the number of trailing zeroes in n!."
   ]
  },
  {
   "cell_type": "code",
   "execution_count": null,
   "metadata": {},
   "outputs": [],
   "source": [
    "class Solution:\n",
    "    def trailingZeroes(self, n: int) -> int:\n",
    "        "
   ]
  },
  {
   "cell_type": "markdown",
   "metadata": {},
   "source": [
    "# Examples"
   ]
  },
  {
   "cell_type": "code",
   "execution_count": null,
   "metadata": {},
   "outputs": [],
   "source": [
    "# Example 1:\n",
    "Input: 3\n",
    "Output: 0\n",
    "Explanation: 3! = 6, no trailing zero.\n",
    "\n",
    "# Example 2:\n",
    "Input: 5\n",
    "Output: 1\n",
    "Explanation: 5! = 120, one trailing zero."
   ]
  },
  {
   "cell_type": "markdown",
   "metadata": {},
   "source": [
    "# My Algorithms"
   ]
  },
  {
   "cell_type": "code",
   "execution_count": null,
   "metadata": {},
   "outputs": [],
   "source": [
    "from math import factorial\n",
    "\n",
    "###################################\n",
    "###     Time Limit Exceeded     ###\n",
    "###################################\n",
    "\n",
    "def trailingZeroes(n: int) -> int:\n",
    "    num = factorial(n)\n",
    "    count=0\n",
    "    while(not num%10):\n",
    "        count+=1\n",
    "        num//=10\n",
    "    return count\n"
   ]
  },
  {
   "cell_type": "code",
   "execution_count": null,
   "metadata": {},
   "outputs": [],
   "source": [
    "###################################\n",
    "###     Time Limit Exceeded     ###\n",
    "###################################\n",
    "\n",
    "def trailingZeroes(n: int) -> int:\n",
    "    count5 =0\n",
    "    for num in range(0,n+1,5):\n",
    "        while(not num%5 and num!=0):\n",
    "            count5+=1\n",
    "            num//=5\n",
    "    return count5        "
   ]
  },
  {
   "cell_type": "code",
   "execution_count": null,
   "metadata": {},
   "outputs": [],
   "source": [
    "###################################\n",
    "###     Time Limit Exceeded     ###\n",
    "###################################\n",
    "\n",
    "def trailingZeroes(n: int) -> int:\n",
    "    count5 =0\n",
    "    dp={0:0}\n",
    "    for num in range(0,n+1,5):\n",
    "        count =0\n",
    "        cur_num=num\n",
    "        while(not cur_num%5):\n",
    "            if cur_num in dp:\n",
    "                count+=dp[cur_num]\n",
    "                break\n",
    "            count+=1\n",
    "            cur_num//=5\n",
    "        dp[num]=count\n",
    "        count5+=dp[num]\n",
    "    return count5        "
   ]
  },
  {
   "cell_type": "code",
   "execution_count": null,
   "metadata": {
    "tags": []
   },
   "outputs": [],
   "source": [
    "\n",
    "def trailingZeroes(n: int) -> int:\n",
    "    count5 =0\n",
    "    while(n > 4):\n",
    "        count5+= n//5\n",
    "        n//=5\n",
    "    return count5        \n"
   ]
  },
  {
   "cell_type": "markdown",
   "metadata": {},
   "source": [
    "# Alternative algorithms"
   ]
  },
  {
   "cell_type": "code",
   "execution_count": null,
   "metadata": {},
   "outputs": [],
   "source": [
    "\n",
    "def trailingZeroes(n: int) -> int:\n",
    "    count5 =0\n",
    "    while(n > 4):\n",
    "        n//=5\n",
    "        count5+= n\n",
    "    return count5        \n"
   ]
  },
  {
   "cell_type": "markdown",
   "metadata": {},
   "source": [
    "# Sample Input and Test"
   ]
  },
  {
   "cell_type": "code",
   "execution_count": null,
   "metadata": {
    "tags": []
   },
   "outputs": [],
   "source": [
    "# trailingZeroes(7392)\n",
    "\n",
    "\n",
    "# trailingZeroes(25)\n",
    "\n",
    "\n",
    "# trailingZeroes(1808548329)\n",
    "\n",
    "\n",
    "# trailingZeroes(5)\n",
    "\n",
    "\n",
    "# trailingZeroes(7392)\n",
    "\n",
    "\n",
    "trailingZeroes(1808548329)\n"
   ]
  },
  {
   "cell_type": "code",
   "execution_count": null,
   "metadata": {
    "tags": []
   },
   "outputs": [],
   "source": [
    "trailingZeroes(3)\n",
    "# Output: 0\n",
    "\n",
    "\n",
    "# trailingZeroes(5)\n",
    "# # Output: 1\n",
    "\n",
    "\n",
    "# trailingZeroes(7392)\n",
    "# # Output: 1845\n",
    "\n",
    "\n",
    "# trailingZeroes(1808548329)\n",
    "# # Output: 452137076\n",
    "\n"
   ]
  }
 ],
 "metadata": {
  "kernelspec": {
   "display_name": "Python 3.8.2 64-bit",
   "language": "python",
   "name": "python38264bit579c7998837c475ba0e81c984a932003"
  },
  "language_info": {
   "codemirror_mode": {
    "name": "ipython",
    "version": 3
   },
   "file_extension": ".py",
   "mimetype": "text/x-python",
   "name": "python",
   "nbconvert_exporter": "python",
   "pygments_lexer": "ipython3",
   "version": "3.8.2-final"
  }
 },
 "nbformat": 4,
 "nbformat_minor": 2
}