{
 "cells": [
  {
   "cell_type": "markdown",
   "metadata": {},
   "source": [
    "# Problem"
   ]
  },
  {
   "cell_type": "code",
   "execution_count": null,
   "metadata": {},
   "outputs": [],
   "source": [
    "Given a string s, partition s such that every substring of the partition is a palindrome.\n",
    "Return all possible palindrome partitioning of s."
   ]
  },
  {
   "cell_type": "code",
   "execution_count": null,
   "metadata": {},
   "outputs": [],
   "source": [
    "class Solution:\n",
    "    def partition(self, s: str) -> List[List[str]]:\n",
    "        "
   ]
  },
  {
   "cell_type": "markdown",
   "metadata": {},
   "source": [
    "# Examples"
   ]
  },
  {
   "cell_type": "code",
   "execution_count": null,
   "metadata": {},
   "outputs": [],
   "source": [
    "Example:\n",
    "Input: \"aab\"\n",
    "Output:\n",
    "[\n",
    "  [\"aa\",\"b\"],\n",
    "  [\"a\",\"a\",\"b\"]\n",
    "]"
   ]
  },
  {
   "cell_type": "markdown",
   "metadata": {},
   "source": [
    "# My Algorithms"
   ]
  },
  {
   "cell_type": "code",
   "execution_count": null,
   "metadata": {},
   "outputs": [],
   "source": [
    "###########################\n",
    "###     Wrong Answer    ###\n",
    "###########################\n",
    "\n",
    "# def partition(s: str) -> [[str]]:\n",
    "#     ans = []\n",
    "#     length = len(s)\n",
    "#     for subLen in range(1,length+1):\n",
    "#         part=[]\n",
    "#         for idx in range(0,length,subLen):\n",
    "#             if s[idx:idx+subLen]==(s[idx:idx+subLen])[::-1]:\n",
    "#                 part+=[s[idx:idx+subLen]]\n",
    "#         if part:\n",
    "#             ans+=[part]\n",
    "#     return ans"
   ]
  },
  {
   "cell_type": "code",
   "execution_count": null,
   "metadata": {},
   "outputs": [],
   "source": [
    "def partition(s: str) -> [[str]]:\n",
    "    ans = []\n",
    "    def searchHelper(subStr, partAns):\n",
    "        if not subStr:\n",
    "            ans.append(partAns)\n",
    "            return\n",
    "        for idx in range(1, len(subStr)+1):\n",
    "            if subStr[:idx]==(subStr[:idx])[::-1]:\n",
    "                searchHelper(subStr[idx:], partAns+[subStr[:idx]])\n",
    "    searchHelper(s,[])\n",
    "    return ans"
   ]
  },
  {
   "cell_type": "markdown",
   "metadata": {},
   "source": [
    "# Alternative algorithms"
   ]
  },
  {
   "cell_type": "code",
   "execution_count": null,
   "metadata": {},
   "outputs": [],
   "source": [
    "def partition(s: str) -> [[str]]:\n",
    "    if not s:\n",
    "        return [[]]\n",
    "    length = len(s)\n",
    "    dp = [[] for _ in range(length+1)]\n",
    "    for end in range(1, length+1):\n",
    "        for start in range(end):\n",
    "            if s[start:end]==s[start:end][::-1]:\n",
    "                if not dp[start]:\n",
    "                    dp[end] = [[s[start:end]]]\n",
    "                else:\n",
    "                    for part in dp[start]:\n",
    "                        dp[end].append(part+[s[start:end]])\n",
    "    return dp[-1]"
   ]
  },
  {
   "cell_type": "markdown",
   "metadata": {},
   "source": [
    "# Sample Input and Test"
   ]
  },
  {
   "cell_type": "code",
   "execution_count": null,
   "metadata": {
    "tags": []
   },
   "outputs": [],
   "source": [
    "Input=\"aab\"\n",
    "# Output:\n",
    "# [\n",
    "#   [\"aa\",\"b\"],\n",
    "#   [\"a\",\"a\",\"b\"]\n",
    "# ]\n",
    "partition(Input)\n"
   ]
  },
  {
   "cell_type": "code",
   "execution_count": null,
   "metadata": {
    "tags": []
   },
   "outputs": [],
   "source": [
    "Input=\"cdd\"\n",
    "# Expected\n",
    "# [[\"c\",\"d\",\"d\"],[\"c\",\"dd\"]]\n",
    "partition(Input)\n"
   ]
  },
  {
   "cell_type": "code",
   "execution_count": null,
   "metadata": {
    "tags": []
   },
   "outputs": [],
   "source": [
    "Input=\"c\"\n",
    "# Expected\n",
    "# [[\"c\",\"d\",\"d\"],[\"c\",\"dd\"]]\n",
    "partition(Input)\n",
    "\n"
   ]
  },
  {
   "cell_type": "code",
   "execution_count": null,
   "metadata": {
    "tags": []
   },
   "outputs": [],
   "source": [
    "Input=\"\"\n",
    "# Expected\n",
    "# [[\"c\",\"d\",\"d\"],[\"c\",\"dd\"]]\n",
    "partition(Input)\n",
    "\n"
   ]
  }
 ],
 "metadata": {
  "kernelspec": {
   "display_name": "Python 3.8.2 64-bit",
   "language": "python",
   "name": "python38264bit579c7998837c475ba0e81c984a932003"
  },
  "language_info": {
   "codemirror_mode": {
    "name": "ipython",
    "version": 3
   },
   "file_extension": ".py",
   "mimetype": "text/x-python",
   "name": "python",
   "nbconvert_exporter": "python",
   "pygments_lexer": "ipython3",
   "version": "3.8.2-final"
  }
 },
 "nbformat": 4,
 "nbformat_minor": 2
}