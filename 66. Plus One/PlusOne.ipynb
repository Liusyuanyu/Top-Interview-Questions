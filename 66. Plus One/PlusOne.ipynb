{
 "cells": [
  {
   "cell_type": "markdown",
   "metadata": {},
   "source": [
    "# Problem"
   ]
  },
  {
   "cell_type": "code",
   "execution_count": null,
   "metadata": {},
   "outputs": [],
   "source": [
    "Given a non-empty array of digits representing a non-negative integer, increment one to the integer.\n",
    "The digits are stored such that the most significant digit is at the head of the list, and each element in the array contains a single digit.\n",
    "You may assume the integer does not contain any leading zero, except the number 0 itself."
   ]
  },
  {
   "cell_type": "code",
   "execution_count": null,
   "metadata": {},
   "outputs": [],
   "source": [
    "class Solution:\n",
    "    def plusOne(self, digits: List[int]) -> List[int]:\n",
    "        "
   ]
  },
  {
   "cell_type": "markdown",
   "metadata": {},
   "source": [
    "# Examples"
   ]
  },
  {
   "cell_type": "code",
   "execution_count": null,
   "metadata": {},
   "outputs": [],
   "source": [
    "# Example 1:\n",
    "Input: [1,2,3]\n",
    "Output: [1,2,4]\n",
    "Explanation: The array represents the integer 123.\n",
    "\n",
    "\n",
    "# Example 2:\n",
    "Input: [4,3,2,1]\n",
    "Output: [4,3,2,2]\n",
    "Explanation: The array represents the integer 4321.\n"
   ]
  },
  {
   "cell_type": "markdown",
   "metadata": {},
   "source": [
    "# My Algorithms"
   ]
  },
  {
   "cell_type": "code",
   "execution_count": null,
   "metadata": {},
   "outputs": [],
   "source": [
    "def plusOne(digits: [int]) -> [int]:\n",
    "    carry=0\n",
    "    digits[-1]+=1\n",
    "    idx = len(digits)-1\n",
    "    while idx > -1:\n",
    "        if digits[idx] >= 10:\n",
    "            digits[idx] %=10\n",
    "            carry=1\n",
    "        elif carry:\n",
    "            digits[idx] +=1\n",
    "            carry=0\n",
    "            idx+=1\n",
    "        else:\n",
    "            break\n",
    "        idx -=1\n",
    "    if carry:\n",
    "        digits.insert(0, 1)\n",
    "    return digits\n"
   ]
  },
  {
   "cell_type": "markdown",
   "metadata": {},
   "source": [
    "# Alternative algorithms"
   ]
  },
  {
   "cell_type": "code",
   "execution_count": null,
   "metadata": {},
   "outputs": [],
   "source": [
    "###############################\n",
    "###     Fancy but slow      ###\n",
    "###############################\n",
    "\n",
    "def plusOne(digits: [int]) -> [int]:\n",
    "    digits = int(''.join(list(map(str,digits))))\n",
    "    digits +=1\n",
    "    return [num for num in str(digits)]"
   ]
  },
  {
   "cell_type": "code",
   "execution_count": null,
   "metadata": {},
   "outputs": [],
   "source": [
    "###############################\n",
    "###     Still slower        ###\n",
    "###############################\n",
    "\n",
    "def plusOne(digits: [int]) -> [int]:\n",
    "    num=''\n",
    "    for digit in digits:\n",
    "        num +=str(digit)\n",
    "    digits = int(num)\n",
    "    digits +=1\n",
    "    return [num for num in str(digits)]"
   ]
  },
  {
   "cell_type": "markdown",
   "metadata": {},
   "source": [
    "# Sample Input and Test"
   ]
  },
  {
   "cell_type": "code",
   "execution_count": null,
   "metadata": {
    "tags": []
   },
   "outputs": [],
   "source": [
    "Input= [1,2,3]\n",
    "# Output: [1,2,4]\n",
    "plusOne(Input)\n",
    "\n",
    "Input= [4,3,2,1]\n",
    "# Output: [4,3,2,2]\n",
    "plusOne(Input)\n",
    "\n"
   ]
  },
  {
   "cell_type": "code",
   "execution_count": null,
   "metadata": {
    "tags": []
   },
   "outputs": [],
   "source": [
    "# Input= [9]\n",
    "# # Output: [1, 0]\n",
    "# plusOne(Input)\n",
    "\n",
    "Input= [9, 9]\n",
    "# Output: [1, 0, 0]\n",
    "plusOne(Input)\n",
    "\n"
   ]
  }
 ],
 "metadata": {
  "kernelspec": {
   "display_name": "Python 3.8.2 64-bit",
   "language": "python",
   "name": "python38264bit579c7998837c475ba0e81c984a932003"
  },
  "language_info": {
   "codemirror_mode": {
    "name": "ipython",
    "version": 3
   },
   "file_extension": ".py",
   "mimetype": "text/x-python",
   "name": "python",
   "nbconvert_exporter": "python",
   "pygments_lexer": "ipython3",
   "version": "3.8.2-final"
  }
 },
 "nbformat": 4,
 "nbformat_minor": 2
}