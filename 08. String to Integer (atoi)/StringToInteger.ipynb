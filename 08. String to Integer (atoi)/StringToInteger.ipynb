{
 "cells": [
  {
   "cell_type": "markdown",
   "metadata": {},
   "source": [
    "# Problem"
   ]
  },
  {
   "cell_type": "code",
   "execution_count": null,
   "metadata": {},
   "outputs": [],
   "source": [
    "Implement atoi which converts a string to an integer.\n",
    "The function first discards as many whitespace characters as necessary until the first non-whitespace character is found. Then, starting from this character, takes an optional initial plus or minus sign followed by as many numerical digits as possible, and interprets them as a numerical value.\n",
    "The string can contain additional characters after those that form the integral number, which are ignored and have no effect on the behavior of this function.\n",
    "If the first sequence of non-whitespace characters in str is not a valid integral number, or if no such sequence exists because either str is empty or it contains only whitespace characters, no conversion is performed.\n",
    "If no valid conversion could be performed, a zero value is returned.\n",
    "\n",
    "\n",
    "# Note:\n",
    "Only the space character ' ' is considered as whitespace character.\n",
    "Assume we are dealing with an environment which could only store integers within the 32-bit signed integer range: [−231,  231 − 1]. If the numerical value is out of the range of representable values, INT_MAX (231 − 1) or INT_MIN (−231) is returned."
   ]
  },
  {
   "cell_type": "code",
   "execution_count": null,
   "metadata": {},
   "outputs": [],
   "source": [
    "class Solution:\n",
    "    def myAtoi(self, str: str) -> int:\n",
    "        "
   ]
  },
  {
   "cell_type": "markdown",
   "metadata": {},
   "source": [
    "# Examples"
   ]
  },
  {
   "cell_type": "code",
   "execution_count": null,
   "metadata": {},
   "outputs": [],
   "source": [
    "# Example 1:\n",
    "Input: \"42\"\n",
    "Output: 42\n",
    "\n",
    "# Example 2:\n",
    "Input: \"   -42\"\n",
    "Output: -42\n",
    "Explanation: The first non-whitespace character is '-', which is the minus sign.\n",
    "             Then take as many numerical digits as possible, which gets 42.\n",
    "\n",
    "# Example 3:\n",
    "Input: \"4193 with words\"\n",
    "Output: 4193\n",
    "Explanation: Conversion stops at digit '3' as the next character is not a numerical digit.\n",
    "\n",
    "# Example 4:\n",
    "Input: \"words and 987\"\n",
    "Output: 0\n",
    "Explanation: The first non-whitespace character is 'w', which is not a numerical \n",
    "             digit or a +/- sign. Therefore no valid conversion could be performed.\n",
    "\n",
    "# Example 5:\n",
    "Input: \"-91283472332\"\n",
    "Output: -2147483648\n",
    "Explanation: The number \"-91283472332\" is out of the range of a 32-bit signed integer.\n",
    "             Thefore INT_MIN (−231) is returned.\n",
    "\n"
   ]
  },
  {
   "cell_type": "markdown",
   "metadata": {},
   "source": [
    "# My Algorithms"
   ]
  },
  {
   "cell_type": "code",
   "execution_count": null,
   "metadata": {},
   "outputs": [],
   "source": [
    "###########################\n",
    "###     Wrong Answer    ###\n",
    "###########################\n",
    "\n",
    "# def myAtoi(str: str) -> int:\n",
    "#     maxNumber = 2**31\n",
    "#     try:\n",
    "#         curNum = int(str)\n",
    "#     except ValueError:\n",
    "#         curNum=0\n",
    "#     if curNum < 0 and curNum < -maxNumber:\n",
    "#         return -maxNumber\n",
    "#     elif curNum > maxNumber:\n",
    "#         return maxNumber\n",
    "#     return curNum\n"
   ]
  },
  {
   "cell_type": "code",
   "execution_count": null,
   "metadata": {},
   "outputs": [],
   "source": [
    "def myAtoi(str: str) -> int:\n",
    "    maxNumber = 2**31\n",
    "    numbers = {'0': 0,'1': 1,'2': 2,'3': 3,'4': 4,'5': 5,'6': 6,'7': 7,'8': 8,'9': 9}\n",
    "    neg= False\n",
    "    curNum = 0\n",
    "    start= False\n",
    "    for alphsbet in str:\n",
    "        if start:\n",
    "            if alphsbet in numbers:\n",
    "                curNum*=10\n",
    "                curNum+=numbers[alphsbet]\n",
    "            else:\n",
    "                return -curNum if neg else curNum\n",
    "            if curNum > maxNumber and neg:\n",
    "                return -maxNumber\n",
    "            elif curNum > maxNumber-1 and not neg:\n",
    "                return maxNumber-1\n",
    "        else:\n",
    "            if alphsbet=='-':\n",
    "                start = True\n",
    "                neg = True\n",
    "            elif alphsbet=='+':\n",
    "                start = True\n",
    "                neg = False\n",
    "            elif alphsbet in numbers:\n",
    "                start = True\n",
    "                curNum+=numbers[alphsbet]\n",
    "            elif alphsbet==' ':\n",
    "                pass\n",
    "            else:\n",
    "                return 0\n",
    "    return -curNum if neg else curNum\n"
   ]
  },
  {
   "cell_type": "markdown",
   "metadata": {},
   "source": [
    "# Alternative algorithms"
   ]
  },
  {
   "cell_type": "code",
   "execution_count": null,
   "metadata": {},
   "outputs": [],
   "source": [
    "# def myAtoi(str: str) -> int:\n",
    "    \n",
    "#     newStr = list(str.strip())\n",
    "#     if not newStr:\n",
    "#         return 0\n",
    "\n",
    "#     sign = -1 if newStr[0]=='-' else 1\n",
    "#     numbers = {'0': 0,'1': 1,'2': 2,'3': 3,'4': 4,'5': 5,'6': 6,'7': 7,'8': 8,'9': 9}\n",
    "\n",
    "#     if newStr[0] in ['-','+']:\n",
    "#         newStr.pop(0)\n",
    "#     curNum=0\n",
    "#     for char in newStr:\n",
    "#         if char in numbers:\n",
    "#             curNum=curNum*10 + numbers[char]\n",
    "#         else:\n",
    "#             break\n",
    "#     maxNumber = 2**31\n",
    "\n",
    "#     return max(-maxNumber, min(sign*curNum, maxNumber-1))\n"
   ]
  },
  {
   "cell_type": "code",
   "execution_count": null,
   "metadata": {},
   "outputs": [],
   "source": [
    "def myAtoi(str: str) -> int:\n",
    "    newStr = list(str.strip())\n",
    "    if not newStr:\n",
    "        return 0\n",
    "    sign = -1 if newStr[0]=='-' else 1\n",
    "    if newStr[0] in ['-','+']:\n",
    "        newStr.pop(0)\n",
    "    curNum=0\n",
    "    for char in newStr:\n",
    "        if char.isdigit():\n",
    "            curNum=curNum*10 + (ord(char)-48)\n",
    "        else:\n",
    "            break\n",
    "    maxNumber = 2**31\n",
    "    return max(-maxNumber, min(sign*curNum, maxNumber-1))\n"
   ]
  },
  {
   "cell_type": "code",
   "execution_count": null,
   "metadata": {},
   "outputs": [],
   "source": [
    "def myAtoi(str: str) -> int:\n",
    "    newStr = list(str.strip())\n",
    "    if not newStr:\n",
    "        return 0\n",
    "    sign = -1 if newStr[0]=='-' else 1\n",
    "    if newStr[0] in ['-','+']:\n",
    "        newStr.pop(0)\n",
    "    curNum=0\n",
    "    for idx in range(len(newStr)):\n",
    "        if newStr[idx].isdigit():\n",
    "            curNum=curNum*10 + (ord(newStr[idx])-48)\n",
    "        else:\n",
    "            break\n",
    "    maxNumber = 2**31\n",
    "    return max(-maxNumber, min(sign*curNum, maxNumber-1))\n"
   ]
  },
  {
   "cell_type": "markdown",
   "metadata": {},
   "source": [
    "# Sample Input and Test"
   ]
  },
  {
   "cell_type": "code",
   "execution_count": null,
   "metadata": {
    "tags": []
   },
   "outputs": [],
   "source": [
    "# Input=\"42\"\n",
    "# # Output: 42\n",
    "# myAtoi(Input)\n",
    "\n",
    "Input=\"2147483648\"\n",
    "# Output: 2147483647\n",
    "myAtoi(Input)\n"
   ]
  },
  {
   "cell_type": "code",
   "execution_count": null,
   "metadata": {},
   "outputs": [],
   "source": [
    "Input=\" + 1   123\"\n",
    "# Output: 0\n",
    "myAtoi(Input)\n"
   ]
  },
  {
   "cell_type": "code",
   "execution_count": null,
   "metadata": {
    "tags": []
   },
   "outputs": [],
   "source": [
    "Input= \"   -42\"\n",
    "Output: -42\n",
    "myAtoi(Input)\n",
    "\n",
    "# Input=\"4193 with words\"\n",
    "# # Output: 4193\n",
    "# myAtoi(Input)\n"
   ]
  },
  {
   "cell_type": "code",
   "execution_count": null,
   "metadata": {},
   "outputs": [],
   "source": [
    "# Input= \"words and 987\"\n",
    "# # Output: 0\n",
    "# myAtoi(Input)\n",
    "\n",
    "Input= \"-91283472332\"\n",
    "# Output: -2147483648\n",
    "myAtoi(Input)\n"
   ]
  },
  {
   "cell_type": "code",
   "execution_count": null,
   "metadata": {},
   "outputs": [],
   "source": [
    "Input= \"4193 with words\"\n",
    "# Output: 4193\n",
    "myAtoi(Input)\n",
    "\n",
    "# Input= \"+4193\"\n",
    "# # Output: 4193\n",
    "# myAtoi(Input)\n",
    "\n",
    "# Input= \"+-2\"\n",
    "# # Output: 0\n",
    "# myAtoi(Input)\n",
    "\n",
    "# Input= \"   +0 123\"\n",
    "# # Output: 0\n",
    "# myAtoi(Input)\n",
    "\n"
   ]
  }
 ],
 "metadata": {
  "kernelspec": {
   "display_name": "Python 3.8.2 64-bit",
   "language": "python",
   "name": "python38264bit579c7998837c475ba0e81c984a932003"
  },
  "language_info": {
   "codemirror_mode": {
    "name": "ipython",
    "version": 3
   },
   "file_extension": ".py",
   "mimetype": "text/x-python",
   "name": "python",
   "nbconvert_exporter": "python",
   "pygments_lexer": "ipython3",
   "version": "3.8.2-final"
  }
 },
 "nbformat": 4,
 "nbformat_minor": 2
}