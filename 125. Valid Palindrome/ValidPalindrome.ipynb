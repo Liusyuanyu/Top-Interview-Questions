{
 "cells": [
  {
   "cell_type": "markdown",
   "metadata": {},
   "source": [
    "# Problem"
   ]
  },
  {
   "cell_type": "code",
   "execution_count": null,
   "metadata": {},
   "outputs": [],
   "source": [
    "Given a string, determine if it is a palindrome, considering only alphanumeric characters and ignoring cases.\n",
    "Note: For the purpose of this problem, we define empty string as valid palindrome."
   ]
  },
  {
   "cell_type": "code",
   "execution_count": null,
   "metadata": {},
   "outputs": [],
   "source": [
    "class Solution:\n",
    "    def isPalindrome(self, s: str) -> bool:\n",
    "        "
   ]
  },
  {
   "cell_type": "markdown",
   "metadata": {},
   "source": [
    "# Examples"
   ]
  },
  {
   "cell_type": "code",
   "execution_count": null,
   "metadata": {},
   "outputs": [],
   "source": [
    "# Example 1:\n",
    "Input: \"A man, a plan, a canal: Panama\"\n",
    "Output: true\n",
    "\n",
    "# Example 2:\n",
    "Input: \"race a car\"\n",
    "Output: false"
   ]
  },
  {
   "cell_type": "markdown",
   "metadata": {},
   "source": [
    "# My Algorithms"
   ]
  },
  {
   "cell_type": "code",
   "execution_count": null,
   "metadata": {},
   "outputs": [],
   "source": [
    "# def isPalindrome(s: str) -> bool:\n",
    "#     alnums =[]\n",
    "#     for char in s.lower():\n",
    "#         if char.isalpha():\n",
    "#             alnums.append(char)\n",
    "#         elif char.isnumeric():\n",
    "#             alnums.append(char)\n",
    "#     return alnums==alnums[::-1]\n",
    "\n",
    "def isPalindrome(s: str) -> bool:\n",
    "    alnums =[]\n",
    "    for char in s.lower():\n",
    "        if char.isalnum():\n",
    "            alnums.append(char)\n",
    "    return alnums==alnums[::-1]"
   ]
  },
  {
   "cell_type": "markdown",
   "metadata": {},
   "source": [
    "# Alternative algorithms"
   ]
  },
  {
   "cell_type": "code",
   "execution_count": null,
   "metadata": {},
   "outputs": [],
   "source": [
    "import re, string\n",
    "def isPalindrome(s: str) -> bool:\n",
    "    pattern = re.compile('[\\W_]+')\n",
    "    alnums = pattern.sub('', s).lower()\n",
    "    return alnums==alnums[::-1]\n"
   ]
  },
  {
   "cell_type": "code",
   "execution_count": null,
   "metadata": {
    "tags": []
   },
   "outputs": [],
   "source": [
    "def isPalindrome(s: str) -> bool:\n",
    "    start = 0\n",
    "    end = len(s)-1\n",
    "    s = s.lower()\n",
    "    while(start < end):\n",
    "        if s[start].isalnum():\n",
    "            while(not s[end].isalnum() and end != start):\n",
    "                end-=1\n",
    "            if start == end or s[end]!=s[start]:\n",
    "                return False\n",
    "            else:\n",
    "                end-=1\n",
    "        start+=1\n",
    "    return True"
   ]
  },
  {
   "cell_type": "markdown",
   "metadata": {},
   "source": [
    "# Sample Input and Test"
   ]
  },
  {
   "cell_type": "code",
   "execution_count": null,
   "metadata": {
    "tags": []
   },
   "outputs": [],
   "source": [
    "Input= \"A man, a plan, a canal: Panama\"\n",
    "# Output: true\n",
    "isPalindrome(Input)\n",
    "\n",
    "\n",
    "Input= \"race a car\"\n",
    "# Output: false\n",
    "isPalindrome(Input)\n"
   ]
  }
 ],
 "metadata": {
  "kernelspec": {
   "display_name": "Python 3.8.2 64-bit",
   "language": "python",
   "name": "python38264bit579c7998837c475ba0e81c984a932003"
  },
  "language_info": {
   "codemirror_mode": {
    "name": "ipython",
    "version": 3
   },
   "file_extension": ".py",
   "mimetype": "text/x-python",
   "name": "python",
   "nbconvert_exporter": "python",
   "pygments_lexer": "ipython3",
   "version": "3.8.2-final"
  }
 },
 "nbformat": 4,
 "nbformat_minor": 2
}